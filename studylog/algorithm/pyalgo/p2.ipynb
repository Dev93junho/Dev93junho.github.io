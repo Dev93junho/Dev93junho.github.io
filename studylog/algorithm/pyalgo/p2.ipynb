{
 "cells": [
  {
   "cell_type": "code",
   "execution_count": 10,
   "id": "3b1390d6",
   "metadata": {},
   "outputs": [],
   "source": [
    "durability = [1, 2, 1, 4]\n",
    "dog = [{\n",
    "    \"이름\" : \"루비독\",\n",
    "    \"나이\" : \"95년생\",\n",
    "    \"점프력\" : \"3\",\n",
    "    \"몸무게\" : \"4\",\n",
    "    },{\n",
    "    \"이름\" : \"피치독\",\n",
    "    \"나이\" : \"95년생\",\n",
    "    \"점프력\" : \"3\",\n",
    "    \"몸무게\" : \"3\",\n",
    "    },{\n",
    "    \"이름\" : \"씨-독\",\n",
    "    \"나이\" : \"72년생\",\n",
    "    \"점프력\" : \"2\",\n",
    "    \"몸무게\" : \"1\",\n",
    "    },{\n",
    "    \"이름\" : \"코볼독\",\n",
    "    \"나이\" : \"59년생\",\n",
    "    \"점프력\" : \"1\",\n",
    "    \"몸무게\" : \"1\",\n",
    "    },\n",
    "]"
   ]
  },
  {
   "cell_type": "code",
   "execution_count": 11,
   "id": "a2a018e7",
   "metadata": {},
   "outputs": [
    {
     "name": "stdout",
     "output_type": "stream",
     "text": [
      "['루비독', '피치독', '씨-독', '코볼독']\n"
     ]
    }
   ],
   "source": [
    "def solution(durability, dog):\n",
    "    answer =[dog[i]['이름'] for i in range(len(dog))]\n",
    "    return answer\n",
    "\n",
    "print(solution(durability, dog))"
   ]
  },
  {
   "cell_type": "code",
   "execution_count": 14,
   "id": "2ee8eae8",
   "metadata": {},
   "outputs": [
    {
     "name": "stdout",
     "output_type": "stream",
     "text": [
      "['씨-독']\n"
     ]
    }
   ],
   "source": [
    "def solution(durability, dog):\n",
    "    answer =[i['이름'] for i in dog]\n",
    "    for i in dog:\n",
    "        dog_loc = 0\n",
    "        while dog_loc < len(durability) - 1:\n",
    "            dog_loc += int(i[\"점프력\"])\n",
    "            durability[dog_loc-1] -= int(i[\"몸무게\"])\n",
    "            if durability[dog_loc-1] < 0:\n",
    "                answer[answer.index(i['이름'])]='fail'\n",
    "                break\n",
    "    return [i for i in answer if i != 'fail']\n",
    "\n",
    "print(solution(durability, dog))"
   ]
  }
 ],
 "metadata": {
  "kernelspec": {
   "display_name": "Python 3",
   "language": "python",
   "name": "python3"
  },
  "language_info": {
   "codemirror_mode": {
    "name": "ipython",
    "version": 3
   },
   "file_extension": ".py",
   "mimetype": "text/x-python",
   "name": "python",
   "nbconvert_exporter": "python",
   "pygments_lexer": "ipython3",
   "version": "3.8.8"
  }
 },
 "nbformat": 4,
 "nbformat_minor": 5
}
