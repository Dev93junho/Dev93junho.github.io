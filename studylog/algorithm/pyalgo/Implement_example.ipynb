{
 "cells": [
  {
   "cell_type": "markdown",
   "id": "f4ac0359",
   "metadata": {},
   "source": [
    "# Implement(구현)\n",
    "- 알고리즘은 간단한데 코드가 지나칠만큼 길어지는 문제\n",
    "- 실수 연산을 다루고, 특정 솟수점 자리까지 출력해야하는 문제\n",
    "- 문자열을 특정한 기준에 따라서 끊어 처리해야하는 문제"
   ]
  },
  {
   "cell_type": "markdown",
   "id": "8472b09d",
   "metadata": {},
   "source": [
    "### Matrix\n",
    "- 알고리즘 문제에서의 2차원 공간은 Matrix의 의미로 사용됨"
   ]
  },
  {
   "cell_type": "code",
   "execution_count": null,
   "id": "4ba64228",
   "metadata": {},
   "outputs": [],
   "source": [
    "for i in range(5):\n",
    "    for j in range(5):\n",
    "        print('(' , i, ',', j, ')', end='')\n",
    "    print()"
   ]
  }
 ],
 "metadata": {
  "interpreter": {
   "hash": "63fd5069d213b44bf678585dea6b12cceca9941eaf7f819626cde1f2670de90d"
  },
  "kernelspec": {
   "display_name": "Python 3.9.5 64-bit",
   "name": "python3"
  },
  "language_info": {
   "name": "python",
   "version": "3.9.5"
  }
 },
 "nbformat": 4,
 "nbformat_minor": 5
}
