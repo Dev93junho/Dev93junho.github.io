{
  "nbformat": 4,
  "nbformat_minor": 0,
  "metadata": {
    "accelerator": "GPU",
    "colab": {
      "name": "Untitled20.ipynb",
      "provenance": [],
      "collapsed_sections": []
    },
    "kernelspec": {
      "name": "python3",
      "display_name": "Python 3.8.5 64-bit ('base': conda)"
    },
    "language_info": {
      "name": "python",
      "version": "3.8.5"
    },
    "interpreter": {
      "hash": "ead85409a3df2736fa4852a03cf3afe7e5b1dbdc0e40d7d22bbcbf8cf1adf5fa"
    }
  },
  "cells": [
    {
      "cell_type": "code",
      "metadata": {
        "id": "JZH0HOfpb9CV"
      },
      "source": [
        "import os\n",
        "import cv2\n",
        "import random\n",
        "import numpy as np\n",
        "from matplotlib import pyplot as plt\n",
        "import tensorflow as tf\n",
        "from tensorflow import keras\n",
        "import json\n",
        "# from google.colab.patches import cv2_imshow"
      ],
      "execution_count": 1,
      "outputs": []
    },
    {
      "cell_type": "code",
      "metadata": {
        "id": "hYJRMABJjVae"
      },
      "source": [
        "!unzip -qq cards2.zip"
      ],
      "execution_count": 2,
      "outputs": []
    },
    {
      "cell_type": "code",
      "metadata": {
        "colab": {
          "base_uri": "https://localhost:8080/"
        },
        "id": "3D9AOcSaQDjI",
        "outputId": "bd7dd496-ca0f-4288-be12-da063e2d0d8c"
      },
      "source": [
        "!ls -l"
      ],
      "execution_count": 3,
      "outputs": [
        {
          "output_type": "stream",
          "name": "stdout",
          "text": [
            "total 56712\ndrwxr-xr-x 4 ubuntu ubuntu       59 Jun 19 08:52 asdf\n-rw-rw-r-- 1 ubuntu ubuntu 29035658 Jun 21 18:21 asdf.ipynb\ndrwxrwxr-x 4 ubuntu ubuntu       93 Jun 21 18:16 data\n-rw-rw-r-- 1 ubuntu ubuntu 29035658 Jun 21 18:21 ttt.ipynb\n"
          ]
        }
      ]
    },
    {
      "cell_type": "code",
      "metadata": {
        "id": "4ooUJGGNiprX"
      },
      "source": [
        "labels = {\n",
        "    'id':0,\n",
        "    'drive':1,\n",
        "    'credit':2\n",
        "}\n"
      ],
      "execution_count": 4,
      "outputs": []
    },
    {
      "cell_type": "code",
      "metadata": {
        "colab": {
          "base_uri": "https://localhost:8080/"
        },
        "id": "8IRlq04TjKCP",
        "outputId": "02c88238-1400-4afb-ef7c-bcd9257e5d97"
      },
      "source": [
        "for root, dirs, filenames in os.walk('./'):\n",
        "    for filename in filenames:\n",
        "        first, last = os.path.splitext(filename)\n",
        "\n",
        "        if last != '.jpg':\n",
        "            continue\n",
        "        \n",
        "        json_path = os.path.join(root, first + '.json')\n",
        "        if not os.path.exists(json_path):\n",
        "            continue\n",
        "        \n",
        "        data = json.load(open(json_path, 'r'))\n",
        "        if data['shapes'][0]['label'] not in labels:\n",
        "            print(data['shapes'][0]['label'], json_path)"
      ],
      "execution_count": 5,
      "outputs": [
        {
          "output_type": "stream",
          "name": "stdout",
          "text": [
            "card ./data/train/신준호Label/junho_card.json\ncredit2 ./data/train/장문정/Inked1.png_LI1.json\ncredit1 ./data/train/장문정/Inked2.png_LI.json\n"
          ]
        }
      ]
    },
    {
      "cell_type": "code",
      "metadata": {
        "colab": {
          "base_uri": "https://localhost:8080/",
          "height": 35
        },
        "id": "vDW0jJfLKgDp",
        "outputId": "ae71c9d9-ce8a-48c7-8b53-11e670b7b570"
      },
      "source": [
        "json_path"
      ],
      "execution_count": 6,
      "outputs": [
        {
          "output_type": "execute_result",
          "data": {
            "text/plain": [
              "'./data/valid/이동휘cardlabel/KakaoTalk_20210615_093846988_02.json'"
            ]
          },
          "metadata": {},
          "execution_count": 6
        }
      ]
    },
    {
      "cell_type": "code",
      "metadata": {
        "id": "g4Tn7cL9mgb-"
      },
      "source": [
        "label_alt = {\n",
        "    'credit2':'credit',\n",
        "    'credit1':'credit',\n",
        "    'card':'credit',\n",
        "}"
      ],
      "execution_count": 7,
      "outputs": []
    },
    {
      "cell_type": "code",
      "metadata": {
        "id": "al_xH_cirCtN"
      },
      "source": [
        "def sort_points(points):\n",
        "    s = points.sum(axis=1)\n",
        "    lt = s.argmin()\n",
        "    rb = s.argmax()\n",
        "    m = points[:, 1] - points[:, 0]\n",
        "    lb = m.argmax()\n",
        "    rt = m.argmin()\n",
        "    if len({lt, rb, lb, rt}) < 4:\n",
        "        return None\n",
        "    return points[(lt, rt, rb, lb), :]"
      ],
      "execution_count": 8,
      "outputs": []
    },
    {
      "cell_type": "code",
      "metadata": {
        "id": "zdknwfEDmh7l"
      },
      "source": [
        "cards_data_train = []\n",
        "cards_data_valid = []\n",
        "for root, dirs, filenames in os.walk('./'):\n",
        "    for filename in filenames:\n",
        "        first, last = os.path.splitext(filename)\n",
        "\n",
        "        if last != '.jpg':\n",
        "            continue\n",
        "        \n",
        "        json_path = os.path.join(root, first + '.json')\n",
        "        if not os.path.exists(json_path):\n",
        "            continue\n",
        "        \n",
        "        jpg_path = os.path.join(root, filename)\n",
        "        data = json.load(open(json_path, 'r'))\n",
        "        label_txt = data['shapes'][0]['label']\n",
        "        if label_txt in label_alt:\n",
        "            label_txt = label_alt[label_txt]\n",
        "        label = labels[label_txt]\n",
        "        # if label == 2:\n",
        "        #     continue\n",
        "\n",
        "        points = data['shapes'][0]['points']\n",
        "        points = np.array(points, dtype=np.float32)\n",
        "        points = sort_points(points)\n",
        "        points = points.reshape(-1)\n",
        "\n",
        "        if 'train' in root:\n",
        "            cards_data_train.append((jpg_path, label, points))\n",
        "        else:\n",
        "            cards_data_valid.append((jpg_path, label, points))"
      ],
      "execution_count": 34,
      "outputs": []
    },
    {
      "cell_type": "code",
      "metadata": {
        "colab": {
          "base_uri": "https://localhost:8080/"
        },
        "id": "leOypOpbMFJi",
        "outputId": "5d32a867-5b8a-4db8-8ef5-c49394ef4599"
      },
      "source": [
        "print(len([item for item in cards_data_valid if item[1] == 2]))"
      ],
      "execution_count": 10,
      "outputs": [
        {
          "output_type": "stream",
          "name": "stdout",
          "text": [
            "0\n"
          ]
        }
      ]
    },
    {
      "cell_type": "code",
      "execution_count": 35,
      "metadata": {},
      "outputs": [],
      "source": [
        "def int64_feature(value):\n",
        "  return tf.train.Feature(int64_list=tf.train.Int64List(value=value))\n",
        "\n",
        "def bytes_feature(value):\n",
        "  return tf.train.Feature(bytes_list=tf.train.BytesList(value=value))\n",
        "\n",
        "def floats_feature(value):\n",
        "  return tf.train.Feature(float_list=tf.train.FloatList(value=value))\n",
        "\n",
        "def write_tfrecord(cards_data, tfrecord_path):\n",
        "    writer = tf.io.TFRecordWriter(tfrecord_path)\n",
        "    cards_data = cards_data_train\n",
        "    for jpg_path, label, points in cards_data:\n",
        "        file = open(jpg_path, 'rb')\n",
        "        feat_dict = {}\n",
        "        feat_dict['image'] = bytes_feature([file.read()])\n",
        "        feat_dict['label'] = int64_feature([label])\n",
        "        feat_dict['points'] = floats_feature(points)\n",
        "        file.close()\n",
        "\n",
        "        example = tf.train.Example(features=tf.train.Features(feature=feat_dict))\n",
        "        writer.write(example.SerializeToString())\n",
        "\n",
        "    writer.close()\n",
        "write_tfrecord(cards_data_train, 'data/train.tfrecord')\n",
        "write_tfrecord(cards_data_valid, 'data/valid.tfrecord')"
      ]
    },
    {
      "cell_type": "code",
      "execution_count": 36,
      "metadata": {},
      "outputs": [],
      "source": [
        "def read_tfrecord(example):\n",
        "    tfrecord_format = (\n",
        "        {\n",
        "            'image':tf.io.FixedLenFeature([], tf.string),\n",
        "            'label':tf.io.FixedLenFeature([], tf.int64),\n",
        "            'points':tf.io.FixedLenFeature([8], tf.float32)\n",
        "        }\n",
        "    )\n",
        "    example = tf.io.parse_single_example(example, tfrecord_format)\n",
        "    image = tf.io.decode_jpeg(example['image'])\n",
        "    label = example['label']\n",
        "    points = example['points']\n",
        "    return image, label, points\n",
        "\n",
        "dataset_train = tf.data.TFRecordDataset('data/train.tfrecord')\n",
        "dataset_valid = tf.data.TFRecordDataset('data/valid.tfrecord')\n",
        "dataset_train = dataset_train.map(read_tfrecord)\n",
        "dataset_valid = dataset_valid.map(read_tfrecord)"
      ]
    },
    {
      "cell_type": "code",
      "execution_count": 37,
      "metadata": {},
      "outputs": [
        {
          "output_type": "execute_result",
          "data": {
            "text/plain": [
              "88"
            ]
          },
          "metadata": {},
          "execution_count": 37
        }
      ],
      "source": [
        "len(cards_data_train)"
      ]
    },
    {
      "cell_type": "code",
      "metadata": {
        "id": "9wI5UUkorxJ9"
      },
      "source": [
        "# def generator_train():\n",
        "#     for path, label, points in cards_data_train:\n",
        "#         image = cv2.imread(path)\n",
        "#         label = np.array(label, dtype=np.int32)\n",
        "#         yield (image, label, points)\n",
        "\n",
        "# def generator_valid():\n",
        "#     for path, label, points in cards_data_valid:\n",
        "#         image = cv2.imread(path)\n",
        "#         label = np.array(label, dtype=np.int32)\n",
        "#         yield (image, label, points)"
      ],
      "execution_count": 13,
      "outputs": []
    },
    {
      "cell_type": "code",
      "metadata": {
        "id": "DawkgHFytotF"
      },
      "source": [
        "# dataset_train = tf.data.Dataset.from_generator(\n",
        "#     generator_train,\n",
        "#     (tf.uint8, tf.int32, tf.float32),\n",
        "#     ((None, None, 3), (), (8,))\n",
        "#     )\n",
        "\n",
        "# dataset_valid = tf.data.Dataset.from_generator(\n",
        "#     generator_valid,\n",
        "#     (tf.uint8, tf.int32, tf.float32),\n",
        "#     ((None, None, 3), (), (8,))\n",
        "#     )\n"
      ],
      "execution_count": 14,
      "outputs": []
    },
    {
      "cell_type": "code",
      "metadata": {
        "id": "xV0NWOUAuWg1"
      },
      "source": [
        "def draw_points(image, label, pixel=True):\n",
        "    if type(image) == np.ndarray:\n",
        "        image = image.copy()\n",
        "        label = label.copy()\n",
        "    else:\n",
        "        image = image.numpy()\n",
        "        label = label.numpy()\n",
        "    if not pixel:\n",
        "        h, w, _ = image.shape\n",
        "        label = np.int32(label * ([w, h] * 4))\n",
        "    pts = label.reshape([-1, 2]).astype(np.int32)\n",
        "    colors = [(255, 0, 0), (0, 255, 0), (0, 0, 255), (255, 255, 255)]\n",
        "    for i in range(4):\n",
        "        i2 = (i + 1) % 4\n",
        "        cv2.line(image, tuple(pts[i]), tuple(pts[i2]), colors[i], 3)\n",
        "    return image"
      ],
      "execution_count": 14,
      "outputs": []
    },
    {
      "cell_type": "code",
      "metadata": {
        "colab": {
          "base_uri": "https://localhost:8080/",
          "height": 1000
        },
        "id": "8a7yJQYHuSG0",
        "outputId": "f3112f13-adc5-4efa-a393-3a018ad8a46f"
      },
      "source": [
        "for image, label_id, points in dataset_train.take(3):\n",
        "    # image = cv2.imread(path)\n",
        "    dst = draw_points(image, points)\n",
        "    cv2_imshow(dst)\n",
        "    print(label_id)"
      ],
      "execution_count": 15,
      "outputs": [
        {
          "output_type": "error",
          "ename": "NameError",
          "evalue": "name 'cv2_imshow' is not defined",
          "traceback": [
            "\u001b[0;31m---------------------------------------------------------------------------\u001b[0m",
            "\u001b[0;31mNameError\u001b[0m                                 Traceback (most recent call last)",
            "\u001b[0;32m<ipython-input-15-8833296eeeac>\u001b[0m in \u001b[0;36m<module>\u001b[0;34m\u001b[0m\n\u001b[1;32m      2\u001b[0m     \u001b[0;31m# image = cv2.imread(path)\u001b[0m\u001b[0;34m\u001b[0m\u001b[0;34m\u001b[0m\u001b[0;34m\u001b[0m\u001b[0m\n\u001b[1;32m      3\u001b[0m     \u001b[0mdst\u001b[0m \u001b[0;34m=\u001b[0m \u001b[0mdraw_points\u001b[0m\u001b[0;34m(\u001b[0m\u001b[0mimage\u001b[0m\u001b[0;34m,\u001b[0m \u001b[0mpoints\u001b[0m\u001b[0;34m)\u001b[0m\u001b[0;34m\u001b[0m\u001b[0;34m\u001b[0m\u001b[0m\n\u001b[0;32m----> 4\u001b[0;31m     \u001b[0mcv2_imshow\u001b[0m\u001b[0;34m(\u001b[0m\u001b[0mdst\u001b[0m\u001b[0;34m)\u001b[0m\u001b[0;34m\u001b[0m\u001b[0;34m\u001b[0m\u001b[0m\n\u001b[0m\u001b[1;32m      5\u001b[0m     \u001b[0mprint\u001b[0m\u001b[0;34m(\u001b[0m\u001b[0mlabel_id\u001b[0m\u001b[0;34m)\u001b[0m\u001b[0;34m\u001b[0m\u001b[0;34m\u001b[0m\u001b[0m\n",
            "\u001b[0;31mNameError\u001b[0m: name 'cv2_imshow' is not defined"
          ]
        }
      ]
    },
    {
      "cell_type": "code",
      "metadata": {
        "id": "4DVPMb1VNOco"
      },
      "source": [
        "import random\n",
        "\n",
        "def random_geometry(image, points, image_shape, target_size):\n",
        "    width, height = target_size\n",
        "\n",
        "    card_width = width * (0.6 + random.random() * 0.35)\n",
        "    card_height = card_width * (5.4 / 8.6)\n",
        "    center_x = width * (0.45 + random.random() * 0.1)\n",
        "    center_y = height * (0.45 + random.random() * 0.1)\n",
        "\n",
        "    x0 = center_x - card_width / 2\n",
        "    y0 = center_y - card_height / 2\n",
        "    x1 = center_x + card_width / 2\n",
        "    y1 = center_y + card_height / 2\n",
        "\n",
        "    #--코너점\n",
        "    corners = np.array(\n",
        "        [\n",
        "            [x0, y0, 1],\n",
        "            [x1, y0, 1],\n",
        "            [x1, y1, 1],\n",
        "            [x0, y1, 1]\n",
        "        ], dtype=np.float32)\n",
        "\n",
        "    #-- 회전 + (스케일)\n",
        "    aug_angle = random.uniform(-10, 10)\n",
        "    #ori_width is center of nu_image\n",
        "    rot_matrix = cv2.getRotationMatrix2D((width // 2, height // 2), aug_angle, 1.0).astype(np.float32)\n",
        "    corners = corners @ rot_matrix.T\n",
        "\n",
        "    #-- 랜덤 추가\n",
        "    corners += np.random.randn(4, 2) * (width / 60)\n",
        "\n",
        "    #-- 호모그래피\n",
        "    h = cv2.getPerspectiveTransform(points.reshape(4, 2), corners)\n",
        "    dst_image = cv2.warpPerspective(image, h, target_size)\n",
        "    dst_points = corners.reshape([-1]).astype(np.float32)\n",
        "\n",
        "    return dst_image, dst_points\n",
        "    \n",
        "def random_salt_and_papper(image):\n",
        "    #salt and papper\n",
        "    width = image.shape[1]\n",
        "    height = image.shape[0]\n",
        "    \n",
        "    salts = [[0, 0, 0], [255, 255, 255], [0, 0, 255], [0, 255, 0], [255, 0, 0]]\n",
        "\n",
        "    for salt in salts:\n",
        "        if random.random() < 0.1:\n",
        "            salt_count = int(width * height * 0.01 * random.random())\n",
        "            y_coord = np.random.randint(0, height, [salt_count])\n",
        "            x_coord = np.random.randint(0, width, [salt_count])\n",
        "            image[(y_coord, x_coord)] = salt\n",
        "\n",
        "\n",
        "def random_blur_or_shappen(image):\n",
        "    blured = cv2.GaussianBlur(image, (5, 5), 7)\n",
        "    weight = np.array(-0.5 + random.random() * 0.7, dtype=np.float32)\n",
        "    image = image * (1 - weight) + blured * weight\n",
        "    return image  \n",
        "\n",
        "\n",
        "def random_flip(image, points, target_size):\n",
        "    if random.random() > 0.5:\n",
        "        image =  cv2.flip(image, 1)\n",
        "        width = target_size[0]\n",
        "        points[[0, 2, 4, 6]] = width - points[[0, 2, 4, 6]]\n",
        "    \n",
        "    return image, points\n",
        "\n",
        "def random_lines(image):\n",
        "    for ch in range(0, 2):\n",
        "        if random.random() < 0.05:\n",
        "            step = random.randint(3, 7)\n",
        "            start = random.randint(0, step - 1)\n",
        "            image[start::step, :, ch] = random.randint(0, 255)\n",
        "\n",
        "    for ch in range(0, 2):\n",
        "        if random.random() < 0.05:\n",
        "            step = random.randint(3, 7)\n",
        "            start = random.randint(0, step - 1)\n",
        "            image[:, start::step, ch] = random.randint(0, 255)\n",
        "\n",
        "def random_dim(image):\n",
        "    for ch in range(0, 3):\n",
        "        image[:, :, ch] += random.randint(-10, 10)\n",
        "    return image\n",
        "\n",
        "def random_ditter(image):\n",
        "    if random.random() < 0.5:\n",
        "        image += np.random.normal(0, random.randint(1, 20), image.shape)\n",
        "\n",
        "\n",
        "def random_multi_tone(image):\n",
        "    if random.random() < 0.1:\n",
        "        sep = random.randint(image.shape[1] // 4, image.shape[1] * 3 // 4)\n",
        "        offset = (np.random.random([3]) - 0.5) * 30\n",
        "        image[:, :sep, :] += offset\n",
        "        offset = (np.random.random([3]) - 0.5) * 30\n",
        "        image[:, sep:, :] += offset\n",
        "    if random.random() < 0.1:\n",
        "        sep = random.randint(image.shape[1] // 4, image.shape[1] * 3 // 4)\n",
        "        offset = (np.random.random([3]) - 0.5) * 30\n",
        "        image[:sep, :, :] += offset\n",
        "        offset = (np.random.random([3]) - 0.5) * 30\n",
        "        image[sep:, :, :] += offset\n",
        "\n",
        "def random_box(image):\n",
        "    for _ in range(3):\n",
        "        if random.random() < 0.3:\n",
        "            bw = random.randint(10, image.shape[1] // 5)\n",
        "            bh = random.randint(10, image.shape[0] // 5)\n",
        "            bx = random.randint(0, image.shape[1] - bw)\n",
        "            by = random.randint(0, image.shape[0] - bh)\n",
        "            color = np.random.randint(0, 255, (3,))\n",
        "            image[by:by+bh, bx:bx+bw, :] = color\n",
        "\n",
        "def random_shadow(image):\n",
        "    width = image.shape[1]\n",
        "    height = image.shape[0]\n",
        "\n",
        "    ver_shadow = (np.arange(height) - (height / 2)) / (height / random.randint(1, 30))\n",
        "    hor_shadow = (np.arange(width) - (width / 2)) / (width / random.randint(1, 30))\n",
        "\n",
        "    ver_shadow = np.linspace(0, 1, height).reshape([-1, 1, 1])\n",
        "    hor_shadow = np.linspace(0, 1, width).reshape([1, -1, 1])\n",
        "    \n",
        "    ver_shadow *= np.random.randn() * 40\n",
        "    hor_shadow *= np.random.randn() * 40\n",
        "\n",
        "    image += ver_shadow.astype(np.float32)\n",
        "    image += hor_shadow.astype(np.float32)\n"
      ],
      "execution_count": 15,
      "outputs": []
    },
    {
      "cell_type": "code",
      "metadata": {
        "id": "pRAWqvDWShaa"
      },
      "source": [
        "def aug_all_numpy(image, points, shape):\n",
        "    #기본 어그먼트\n",
        "    image, points = random_geometry(image, points, shape, target_size=(224, 224))\n",
        "    # image, points = random_flip(image, points, (224, 224))\n",
        "    # image = cv2.resize(image, (224, 224))\n",
        "\n",
        "    #float상태 어그먼트\n",
        "    image = image.astype(np.float32)\n",
        "    image = random_blur_or_shappen(image)\n",
        "    random_dim(image)\n",
        "    random_ditter(image)\n",
        "    random_multi_tone(image)\n",
        "    random_shadow(image)\n",
        "    image = np.clip(image, 0, 255)\n",
        "\n",
        "    #dropout 계열\n",
        "    # image = image.astype(np.uint8)\n",
        "    random_salt_and_papper(image)\n",
        "    random_lines(image)\n",
        "    random_box(image)\n",
        "    return image, points\n",
        "\n",
        "def aug_valid_numpy(image, points, shape):\n",
        "    image, points = random_geometry(image, points, shape, target_size=(224, 224))\n",
        "    image, points = random_flip(image, points, (224, 224))\n",
        "    # image = image.astype(np.uint8)\n",
        "    # random_shadow(image)\n",
        "    return image, points\n",
        "\n",
        "def aug_train(image, label_id, points):\n",
        "    image, points = tf.numpy_function(aug_all_numpy, [image, points, tf.shape(image)], (tf.float32, tf.float32))\n",
        "    image = keras.applications.mobilenet_v2.preprocess_input(image)\n",
        "    points = points / 224\n",
        "    return image, (label_id, points)\n",
        "\n",
        "def aug_valid(image, label_id, points):\n",
        "    image, points = tf.numpy_function(aug_valid_numpy, [image, points, tf.shape(image)], (tf.float32, tf.float32))\n",
        "    image = keras.applications.mobilenet_v2.preprocess_input(image)\n",
        "    points = points / 224\n",
        "    return image, (label_id, points)"
      ],
      "execution_count": 17,
      "outputs": []
    },
    {
      "cell_type": "code",
      "metadata": {
        "id": "w_wDCzOISrFg"
      },
      "source": [
        "dt = dataset_train.map(aug_train, num_parallel_calls=tf.data.experimental.AUTOTUNE)\n",
        "dt = dt.repeat().shuffle(100).batch(32).prefetch(3)\n",
        "dv = dataset_valid.map(aug_train, num_parallel_calls=tf.data.experimental.AUTOTUNE)\n",
        "dv = dv.repeat(10).batch(32).prefetch(3)"
      ],
      "execution_count": 38,
      "outputs": []
    },
    {
      "cell_type": "code",
      "execution_count": 19,
      "metadata": {},
      "outputs": [
        {
          "output_type": "stream",
          "name": "stdout",
          "text": [
            " 19"
          ]
        }
      ],
      "source": [
        "points_list = []\n",
        "count = 0\n",
        "for image_batch, (label_batch, points_batch) in dt.take(20):\n",
        "    print('\\r', count, end='')\n",
        "    count += 1\n",
        "    points_batch = points_batch.numpy()\n",
        "    points_list.append(points_batch)"
      ]
    },
    {
      "cell_type": "code",
      "execution_count": 20,
      "metadata": {},
      "outputs": [
        {
          "output_type": "stream",
          "name": "stdout",
          "text": [
            "[0.06392758 0.05993154 0.06552111 0.0600226  0.06560587 0.05735767\n 0.06319669 0.05945279]\n[0.11824542 0.25790456 0.8846761  0.2614324  0.88089293 0.7427231\n 0.11528359 0.7395593 ]\n"
          ]
        }
      ],
      "source": [
        "points = np.array(points_list).reshape(-1, 8)\n",
        "points_std = points.std(axis=0)\n",
        "points_mean = points.mean(axis=0)\n",
        "print(points_std)\n",
        "print(points_mean)"
      ]
    },
    {
      "cell_type": "code",
      "metadata": {
        "id": "8hdEhpzxiuxN"
      },
      "source": [
        "pre_model = keras.applications.mobilenet_v2.MobileNetV2(include_top=False, input_shape=[224, 224, 3], weights='imagenet')\n",
        "input = keras.layers.Input(shape=[224, 224, 3], dtype=tf.float32)\n",
        "\n",
        "#preprocessing and feature extraction\n",
        "x = input\n",
        "# x = keras.layers.Lambda(\n",
        "#     lambda z : tf.cast(z, tf.float32), output_shape=[None, 224, 224, 3])(x)\n",
        "# x = keras.layers.Lambda(\n",
        "#     lambda x : keras.applications.mobilenet_v2.preprocess_input(x))(x)\n",
        "x = pre_model(x)\n",
        "pre_feat = x\n",
        "feat = keras.layers.GlobalAveragePooling2D()(x)\n",
        "\n",
        "#points\n",
        "x = pre_feat\n",
        "x = keras.layers.Flatten()(x)\n",
        "x = keras.layers.Dense(512, use_bias=False)(x)\n",
        "x = keras.layers.BatchNormalization()(x)\n",
        "x = keras.layers.Activation('tanh')(x)\n",
        "x = keras.layers.Dense(256, use_bias=False)(x)\n",
        "x = keras.layers.BatchNormalization()(x)\n",
        "x = keras.layers.Activation('tanh')(x)\n",
        "x = keras.layers.Dense(128, use_bias=False)(x)\n",
        "x = keras.layers.BatchNormalization()(x)\n",
        "x = keras.layers.Activation('tanh')(x)\n",
        "x = keras.layers.Dense(8)(x)\n",
        "# def scale_layer(x):\n",
        "#     points = x[0]\n",
        "#     shape = tf.shape(x[1])[1:]\n",
        "#     shape = tf.cast(shape, dtype=tf.float32)\n",
        "#     points = tf.reshape(points, [-1, 4, 2])\n",
        "#     points = points + tf.constant(points_mean)\n",
        "#     px = points[..., :1] * shape[1]\n",
        "#     py = points[..., 1:] * shape[0]\n",
        "#     points = tf.concat([px, py], axis=1)\n",
        "#     points = tf.reshape(points, [-1, 8])\n",
        "#     return points\n",
        "# output_points = keras.layers.Lambda(scale_layer, name='points')((x, input))\n",
        "\n",
        "output_points = keras.layers.Lambda(\n",
        "    lambda x : x * points_std + points_mean, name='ps')(x)\n",
        "\n",
        "#label\n",
        "x = feat\n",
        "output_label = keras.layers.Dense(3, activation='softmax', name='lb')(x)\n",
        "\n",
        "#model\n",
        "model = keras.models.Model(inputs=[input], outputs=[output_label, output_points])"
      ],
      "execution_count": 50,
      "outputs": []
    },
    {
      "cell_type": "code",
      "metadata": {
        "id": "hL6titMDlEMu"
      },
      "source": [
        "pre_model.trainable = False\n",
        "model.compile(optimizer='nadam', loss=['sparse_categorical_crossentropy', 'mse'])"
      ],
      "execution_count": 51,
      "outputs": []
    },
    {
      "cell_type": "code",
      "metadata": {
        "colab": {
          "base_uri": "https://localhost:8080/"
        },
        "id": "CeKF0ZX0lVO9",
        "outputId": "3493fcc6-17da-4c7a-8bc2-e1fda9af20de",
        "tags": []
      },
      "source": [
        "history = model.fit(dt, epochs=3, steps_per_epoch=100, validation_data=dv)"
      ],
      "execution_count": 52,
      "outputs": [
        {
          "output_type": "stream",
          "name": "stdout",
          "text": [
            "Epoch 1/3\n",
            "100/100 [==============================] - 49s 444ms/step - loss: 0.7667 - lb_loss: 0.7634 - ps_loss: 0.0033 - val_loss: 0.2752 - val_lb_loss: 0.2736 - val_ps_loss: 0.0016\n",
            "Epoch 2/3\n",
            "100/100 [==============================] - 42s 425ms/step - loss: 0.2593 - lb_loss: 0.2581 - ps_loss: 0.0012 - val_loss: 0.1848 - val_lb_loss: 0.1838 - val_ps_loss: 0.0010\n",
            "Epoch 3/3\n",
            "100/100 [==============================] - 42s 429ms/step - loss: 0.1829 - lb_loss: 0.1819 - ps_loss: 0.0010 - val_loss: 0.1338 - val_lb_loss: 0.1327 - val_ps_loss: 0.0010\n"
          ]
        }
      ]
    },
    {
      "cell_type": "code",
      "metadata": {
        "id": "9d9C0iXUsUrk"
      },
      "source": [
        "pre_model.trainable = True\n",
        "model.compile(optimizer='nadam', loss=['sparse_categorical_crossentropy', 'mse'], loss_weights=[0.01, 0.99])"
      ],
      "execution_count": 80,
      "outputs": []
    },
    {
      "cell_type": "code",
      "execution_count": 81,
      "metadata": {
        "tags": [
          "outputPrepend"
        ]
      },
      "outputs": [
        {
          "output_type": "stream",
          "name": "stdout",
          "text": [
            "- ps_loss: 3.7844e-04 - val_loss: 0.0186 - val_lb_loss: 1.7890 - val_ps_loss: 7.1676e-04\n",
            "Epoch 4/100\n",
            "200/200 [==============================] - 78s 393ms/step - loss: 2.9794e-04 - lb_loss: 1.0851e-04 - ps_loss: 2.9985e-04 - val_loss: 0.0012 - val_lb_loss: 0.0589 - val_ps_loss: 6.2427e-04\n",
            "Epoch 5/100\n",
            "200/200 [==============================] - 78s 390ms/step - loss: 2.3851e-04 - lb_loss: 3.1558e-04 - ps_loss: 2.3773e-04 - val_loss: 5.8352e-04 - val_lb_loss: 6.4020e-05 - val_ps_loss: 5.8877e-04\n",
            "Epoch 6/100\n",
            "200/200 [==============================] - 77s 385ms/step - loss: 7.3598e-04 - lb_loss: 0.0322 - ps_loss: 4.1806e-04 - val_loss: 0.2329 - val_lb_loss: 22.7152 - val_ps_loss: 0.0058\n",
            "Epoch 7/100\n",
            "200/200 [==============================] - 78s 392ms/step - loss: 5.7594e-04 - lb_loss: 0.0050 - ps_loss: 5.3132e-04 - val_loss: 0.0647 - val_lb_loss: 6.2723 - val_ps_loss: 0.0020\n",
            "Epoch 8/100\n",
            "200/200 [==============================] - 79s 394ms/step - loss: 4.4987e-04 - lb_loss: 0.0053 - ps_loss: 4.0099e-04 - val_loss: 0.1736 - val_lb_loss: 17.1872 - val_ps_loss: 0.0017\n",
            "Epoch 9/100\n",
            "200/200 [==============================] - 77s 386ms/step - loss: 4.1724e-04 - lb_loss: 0.0061 - ps_loss: 3.6020e-04 - val_loss: 0.0195 - val_lb_loss: 1.8383 - val_ps_loss: 0.0011\n",
            "Epoch 10/100\n",
            "200/200 [==============================] - 76s 383ms/step - loss: 3.0192e-04 - lb_loss: 4.0350e-04 - ps_loss: 3.0089e-04 - val_loss: 0.0017 - val_lb_loss: 0.0755 - val_ps_loss: 9.1962e-04\n",
            "Epoch 11/100\n",
            "200/200 [==============================] - 77s 385ms/step - loss: 3.8231e-04 - lb_loss: 0.0079 - ps_loss: 3.0655e-04 - val_loss: 8.3770e-04 - val_lb_loss: 0.0326 - val_ps_loss: 5.1709e-04\n",
            "Epoch 12/100\n",
            "200/200 [==============================] - 78s 390ms/step - loss: 2.3070e-04 - lb_loss: 1.2129e-04 - ps_loss: 2.3181e-04 - val_loss: 3.4218e-04 - val_lb_loss: 8.0066e-04 - val_ps_loss: 3.3755e-04\n",
            "Epoch 13/100\n",
            "200/200 [==============================] - 81s 406ms/step - loss: 2.0717e-04 - lb_loss: 3.4314e-05 - ps_loss: 2.0891e-04 - val_loss: 2.2717e-04 - val_lb_loss: 1.0334e-05 - val_ps_loss: 2.2936e-04\n",
            "Epoch 14/100\n",
            "200/200 [==============================] - 77s 387ms/step - loss: 1.9310e-04 - lb_loss: 4.2768e-05 - ps_loss: 1.9462e-04 - val_loss: 2.8123e-04 - val_lb_loss: 1.6665e-06 - val_ps_loss: 2.8405e-04\n",
            "Epoch 15/100\n",
            "200/200 [==============================] - 77s 387ms/step - loss: 1.8592e-04 - lb_loss: 0.0012 - ps_loss: 1.7566e-04 - val_loss: 0.0946 - val_lb_loss: 9.2310 - val_ps_loss: 0.0023\n",
            "Epoch 16/100\n",
            "200/200 [==============================] - 77s 384ms/step - loss: 8.9120e-04 - lb_loss: 0.0337 - ps_loss: 5.5944e-04 - val_loss: 0.0271 - val_lb_loss: 2.5640 - val_ps_loss: 0.0015\n",
            "Epoch 17/100\n",
            "200/200 [==============================] - 79s 397ms/step - loss: 4.6368e-04 - lb_loss: 0.0103 - ps_loss: 3.6479e-04 - val_loss: 0.0010 - val_lb_loss: 0.0323 - val_ps_loss: 6.8810e-04\n",
            "Epoch 18/100\n",
            "200/200 [==============================] - 84s 422ms/step - loss: 2.4246e-04 - lb_loss: 1.8054e-04 - ps_loss: 2.4309e-04 - val_loss: 3.7412e-04 - val_lb_loss: 4.9076e-05 - val_ps_loss: 3.7741e-04\n",
            "Epoch 19/100\n",
            "200/200 [==============================] - 81s 408ms/step - loss: 2.2549e-04 - lb_loss: 5.1584e-05 - ps_loss: 2.2724e-04 - val_loss: 2.5494e-04 - val_lb_loss: 4.6699e-06 - val_ps_loss: 2.5747e-04\n",
            "Epoch 20/100\n",
            "200/200 [==============================] - 80s 403ms/step - loss: 1.8603e-04 - lb_loss: 1.9373e-05 - ps_loss: 1.8771e-04 - val_loss: 2.0731e-04 - val_lb_loss: 2.4385e-05 - val_ps_loss: 2.0916e-04\n",
            "Epoch 21/100\n",
            "200/200 [==============================] - 77s 384ms/step - loss: 1.8918e-04 - lb_loss: 3.9878e-04 - ps_loss: 1.8707e-04 - val_loss: 5.3430e-04 - val_lb_loss: 0.0170 - val_ps_loss: 3.6818e-04\n",
            "Epoch 22/100\n",
            "200/200 [==============================] - 78s 394ms/step - loss: 1.9195e-04 - lb_loss: 3.0872e-04 - ps_loss: 1.9077e-04 - val_loss: 2.1880e-04 - val_lb_loss: 2.0209e-05 - val_ps_loss: 2.2081e-04\n",
            "Epoch 23/100\n",
            "200/200 [==============================] - 82s 409ms/step - loss: 1.5363e-04 - lb_loss: 1.3549e-04 - ps_loss: 1.5381e-04 - val_loss: 1.3954e-04 - val_lb_loss: 2.5196e-07 - val_ps_loss: 1.4095e-04\n",
            "Epoch 24/100\n",
            "200/200 [==============================] - 80s 401ms/step - loss: 1.3818e-04 - lb_loss: 1.5502e-05 - ps_loss: 1.3942e-04 - val_loss: 1.4073e-04 - val_lb_loss: 6.5588e-07 - val_ps_loss: 1.4214e-04\n",
            "Epoch 25/100\n",
            "200/200 [==============================] - 81s 407ms/step - loss: 1.3009e-04 - lb_loss: 1.8040e-05 - ps_loss: 1.3122e-04 - val_loss: 1.2232e-04 - val_lb_loss: 0.0018 - val_ps_loss: 1.0551e-04\n",
            "Epoch 26/100\n",
            "200/200 [==============================] - 79s 395ms/step - loss: 0.0010 - lb_loss: 0.0538 - ps_loss: 4.8303e-04 - val_loss: 0.1297 - val_lb_loss: 12.6011 - val_ps_loss: 0.0037\n",
            "Epoch 27/100\n",
            "200/200 [==============================] - 82s 411ms/step - loss: 3.7150e-04 - lb_loss: 2.8951e-04 - ps_loss: 3.7233e-04 - val_loss: 0.0872 - val_lb_loss: 8.5758 - val_ps_loss: 0.0015\n",
            "Epoch 28/100\n",
            "200/200 [==============================] - 81s 407ms/step - loss: 2.9728e-04 - lb_loss: 0.0020 - ps_loss: 2.8009e-04 - val_loss: 0.0480 - val_lb_loss: 4.7110 - val_ps_loss: 9.2390e-04\n",
            "Epoch 29/100\n",
            "200/200 [==============================] - 79s 397ms/step - loss: 2.8676e-04 - lb_loss: 0.0025 - ps_loss: 2.6408e-04 - val_loss: 0.0102 - val_lb_loss: 0.9708 - val_ps_loss: 5.3287e-04\n",
            "Epoch 30/100\n",
            "200/200 [==============================] - 79s 397ms/step - loss: 2.2165e-04 - lb_loss: 3.4160e-04 - ps_loss: 2.2043e-04 - val_loss: 0.0022 - val_lb_loss: 0.1884 - val_ps_loss: 2.9897e-04\n",
            "Epoch 31/100\n",
            "200/200 [==============================] - 77s 387ms/step - loss: 2.1582e-04 - lb_loss: 0.0015 - ps_loss: 2.0279e-04 - val_loss: 6.3906e-04 - val_lb_loss: 0.0205 - val_ps_loss: 4.3869e-04\n",
            "Epoch 32/100\n",
            "200/200 [==============================] - 79s 398ms/step - loss: 2.2474e-04 - lb_loss: 6.8236e-04 - ps_loss: 2.2012e-04 - val_loss: 0.0039 - val_lb_loss: 0.3411 - val_ps_loss: 5.3987e-04\n",
            "Epoch 33/100\n",
            "200/200 [==============================] - 78s 392ms/step - loss: 2.1634e-04 - lb_loss: 4.3582e-04 - ps_loss: 2.1412e-04 - val_loss: 2.2959e-04 - val_lb_loss: 1.6105e-05 - val_ps_loss: 2.3174e-04\n",
            "Epoch 34/100\n",
            "200/200 [==============================] - 81s 406ms/step - loss: 1.6760e-04 - lb_loss: 6.4311e-04 - ps_loss: 1.6279e-04 - val_loss: 0.0067 - val_lb_loss: 0.6291 - val_ps_loss: 3.9734e-04\n",
            "Epoch 35/100\n",
            "200/200 [==============================] - 77s 384ms/step - loss: 2.6991e-04 - lb_loss: 0.0044 - ps_loss: 2.2860e-04 - val_loss: 0.0222 - val_lb_loss: 2.1624 - val_ps_loss: 5.6433e-04\n",
            "Epoch 36/100\n",
            "200/200 [==============================] - 80s 399ms/step - loss: 2.1008e-04 - lb_loss: 4.2560e-04 - ps_loss: 2.0790e-04 - val_loss: 0.0016 - val_lb_loss: 0.1306 - val_ps_loss: 3.2809e-04\n",
            "Epoch 37/100\n",
            "200/200 [==============================] - 82s 413ms/step - loss: 1.6568e-04 - lb_loss: 5.9576e-04 - ps_loss: 1.6133e-04 - val_loss: 3.2654e-04 - val_lb_loss: 0.0078 - val_ps_loss: 2.5085e-04\n",
            "Epoch 38/100\n",
            "200/200 [==============================] - 80s 400ms/step - loss: 1.4034e-04 - lb_loss: 3.9525e-05 - ps_loss: 1.4136e-04 - val_loss: 1.3878e-04 - val_lb_loss: 2.0980e-04 - val_ps_loss: 1.3806e-04\n",
            "Epoch 39/100\n",
            "200/200 [==============================] - 76s 384ms/step - loss: 1.3258e-04 - lb_loss: 4.0447e-04 - ps_loss: 1.2983e-04 - val_loss: 2.9810e-04 - val_lb_loss: 7.2233e-04 - val_ps_loss: 2.9382e-04\n",
            "Epoch 40/100\n",
            "200/200 [==============================] - 77s 388ms/step - loss: 2.2078e-04 - lb_loss: 0.0022 - ps_loss: 2.0109e-04 - val_loss: 3.1311e-04 - val_lb_loss: 0.0010 - val_ps_loss: 3.0601e-04\n",
            "Epoch 41/100\n",
            "200/200 [==============================] - 79s 397ms/step - loss: 1.7585e-04 - lb_loss: 0.0015 - ps_loss: 1.6255e-04 - val_loss: 2.1910e-04 - val_lb_loss: 8.8633e-05 - val_ps_loss: 2.2042e-04\n",
            "Epoch 42/100\n",
            "200/200 [==============================] - 80s 402ms/step - loss: 1.3479e-04 - lb_loss: 8.1247e-06 - ps_loss: 1.3607e-04 - val_loss: 1.7860e-04 - val_lb_loss: 4.9260e-05 - val_ps_loss: 1.7991e-04\n",
            "Epoch 43/100\n",
            "200/200 [==============================] - 78s 390ms/step - loss: 1.2304e-04 - lb_loss: 1.7874e-05 - ps_loss: 1.2410e-04 - val_loss: 1.2327e-04 - val_lb_loss: 4.6881e-07 - val_ps_loss: 1.2451e-04\n",
            "Epoch 44/100\n",
            "200/200 [==============================] - 77s 388ms/step - loss: 1.1392e-04 - lb_loss: 1.0963e-05 - ps_loss: 1.1496e-04 - val_loss: 1.1948e-04 - val_lb_loss: 5.5429e-07 - val_ps_loss: 1.2068e-04\n",
            "Epoch 45/100\n",
            "200/200 [==============================] - 77s 387ms/step - loss: 3.4770e-04 - lb_loss: 0.0120 - ps_loss: 2.2966e-04 - val_loss: 0.0240 - val_lb_loss: 2.0177 - val_ps_loss: 0.0038\n",
            "Epoch 46/100\n",
            "200/200 [==============================] - 78s 390ms/step - loss: 2.5814e-04 - lb_loss: 0.0019 - ps_loss: 2.4113e-04 - val_loss: 0.0017 - val_lb_loss: 0.0743 - val_ps_loss: 9.7365e-04\n",
            "Epoch 47/100\n",
            "200/200 [==============================] - 77s 388ms/step - loss: 1.6249e-04 - lb_loss: 5.2754e-05 - ps_loss: 1.6360e-04 - val_loss: 6.1109e-04 - val_lb_loss: 0.0071 - val_ps_loss: 5.4521e-04\n",
            "Epoch 48/100\n",
            "200/200 [==============================] - 77s 389ms/step - loss: 1.4944e-04 - lb_loss: 5.3137e-05 - ps_loss: 1.5041e-04 - val_loss: 2.7990e-04 - val_lb_loss: 4.0837e-05 - val_ps_loss: 2.8231e-04\n",
            "Epoch 49/100\n",
            "200/200 [==============================] - 77s 386ms/step - loss: 1.3340e-04 - lb_loss: 2.6213e-05 - ps_loss: 1.3448e-04 - val_loss: 1.7277e-04 - val_lb_loss: 7.2322e-06 - val_ps_loss: 1.7444e-04\n",
            "Epoch 50/100\n",
            "200/200 [==============================] - 76s 380ms/step - loss: 1.1787e-04 - lb_loss: 1.7143e-04 - ps_loss: 1.1732e-04 - val_loss: 1.1619e-04 - val_lb_loss: 2.5886e-07 - val_ps_loss: 1.1737e-04\n",
            "Epoch 51/100\n",
            "200/200 [==============================] - 80s 401ms/step - loss: 1.1345e-04 - lb_loss: 1.3833e-05 - ps_loss: 1.1446e-04 - val_loss: 1.0255e-04 - val_lb_loss: 2.3773e-07 - val_ps_loss: 1.0358e-04\n",
            "Epoch 52/100\n",
            "200/200 [==============================] - 79s 397ms/step - loss: 1.1068e-04 - lb_loss: 6.9299e-04 - ps_loss: 1.0480e-04 - val_loss: 8.7412e-04 - val_lb_loss: 0.0384 - val_ps_loss: 4.9515e-04\n",
            "Epoch 53/100\n",
            "200/200 [==============================] - 77s 384ms/step - loss: 3.3459e-04 - lb_loss: 0.0085 - ps_loss: 2.5208e-04 - val_loss: 0.0425 - val_lb_loss: 4.1759 - val_ps_loss: 7.5300e-04\n",
            "Epoch 54/100\n",
            "200/200 [==============================] - 77s 384ms/step - loss: 2.0572e-04 - lb_loss: 1.2712e-04 - ps_loss: 2.0652e-04 - val_loss: 0.0027 - val_lb_loss: 0.2345 - val_ps_loss: 3.5919e-04\n",
            "Epoch 55/100\n",
            "200/200 [==============================] - 76s 383ms/step - loss: 1.4273e-04 - lb_loss: 2.0443e-04 - ps_loss: 1.4210e-04 - val_loss: 3.3159e-04 - val_lb_loss: 0.0097 - val_ps_loss: 2.3708e-04\n",
            "Epoch 56/100\n",
            "200/200 [==============================] - 77s 386ms/step - loss: 1.2391e-04 - lb_loss: 4.6638e-05 - ps_loss: 1.2469e-04 - val_loss: 1.4668e-04 - val_lb_loss: 5.0994e-06 - val_ps_loss: 1.4811e-04\n",
            "Epoch 57/100\n",
            "200/200 [==============================] - 78s 392ms/step - loss: 1.0915e-04 - lb_loss: 1.6118e-05 - ps_loss: 1.1009e-04 - val_loss: 1.2095e-04 - val_lb_loss: 7.4137e-06 - val_ps_loss: 1.2209e-04\n",
            "Epoch 58/100\n",
            "200/200 [==============================] - 78s 393ms/step - loss: 1.0006e-04 - lb_loss: 3.8435e-06 - ps_loss: 1.0103e-04 - val_loss: 1.1113e-04 - val_lb_loss: 3.4448e-07 - val_ps_loss: 1.1225e-04\n",
            "Epoch 59/100\n",
            "200/200 [==============================] - 77s 384ms/step - loss: 1.0226e-04 - lb_loss: 1.4932e-05 - ps_loss: 1.0314e-04 - val_loss: 9.6487e-05 - val_lb_loss: 1.7976e-07 - val_ps_loss: 9.7460e-05\n",
            "Epoch 60/100\n",
            "200/200 [==============================] - 77s 387ms/step - loss: 8.9002e-05 - lb_loss: 2.0172e-05 - ps_loss: 8.9697e-05 - val_loss: 6.9097e-05 - val_lb_loss: 7.4592e-07 - val_ps_loss: 6.9787e-05\n",
            "Epoch 61/100\n",
            "200/200 [==============================] - 76s 379ms/step - loss: 8.5580e-05 - lb_loss: 7.2523e-06 - ps_loss: 8.6371e-05 - val_loss: 7.0835e-05 - val_lb_loss: 5.9058e-07 - val_ps_loss: 7.1544e-05\n",
            "Epoch 62/100\n",
            "200/200 [==============================] - 78s 390ms/step - loss: 8.5851e-05 - lb_loss: 1.9404e-05 - ps_loss: 8.6522e-05 - val_loss: 6.6344e-05 - val_lb_loss: 3.8280e-07 - val_ps_loss: 6.7010e-05\n",
            "Epoch 63/100\n",
            "200/200 [==============================] - 76s 381ms/step - loss: 8.1162e-05 - lb_loss: 1.4157e-05 - ps_loss: 8.1839e-05 - val_loss: 7.4468e-05 - val_lb_loss: 3.0256e-06 - val_ps_loss: 7.5190e-05\n",
            "Epoch 64/100\n",
            "200/200 [==============================] - 78s 389ms/step - loss: 8.0133e-05 - lb_loss: 1.3969e-05 - ps_loss: 8.0801e-05 - val_loss: 7.4440e-05 - val_lb_loss: 2.4385e-05 - val_ps_loss: 7.4946e-05\n",
            "Epoch 65/100\n",
            "200/200 [==============================] - 80s 399ms/step - loss: 7.9184e-05 - lb_loss: 3.8921e-05 - ps_loss: 7.9591e-05 - val_loss: 8.5248e-05 - val_lb_loss: 5.3238e-08 - val_ps_loss: 8.6109e-05\n",
            "Epoch 66/100\n",
            "200/200 [==============================] - 79s 394ms/step - loss: 7.2876e-05 - lb_loss: 1.0834e-06 - ps_loss: 7.3601e-05 - val_loss: 6.1841e-05 - val_lb_loss: 3.0557e-05 - val_ps_loss: 6.2157e-05\n",
            "Epoch 67/100\n",
            "200/200 [==============================] - 77s 388ms/step - loss: 6.9852e-05 - lb_loss: 1.3530e-06 - ps_loss: 7.0544e-05 - val_loss: 5.3121e-05 - val_lb_loss: 1.0172e-06 - val_ps_loss: 5.3647e-05\n",
            "Epoch 68/100\n",
            "200/200 [==============================] - 79s 395ms/step - loss: 6.8420e-05 - lb_loss: 7.6421e-06 - ps_loss: 6.9034e-05 - val_loss: 6.7315e-05 - val_lb_loss: 1.4996e-07 - val_ps_loss: 6.7993e-05\n",
            "Epoch 69/100\n",
            "200/200 [==============================] - 77s 388ms/step - loss: 6.6983e-05 - lb_loss: 1.2389e-05 - ps_loss: 6.7535e-05 - val_loss: 8.6603e-05 - val_lb_loss: 4.0624e-07 - val_ps_loss: 8.7474e-05\n",
            "Epoch 70/100\n",
            "200/200 [==============================] - 78s 390ms/step - loss: 6.5004e-05 - lb_loss: 4.4062e-06 - ps_loss: 6.5617e-05 - val_loss: 5.7554e-05 - val_lb_loss: 3.3851e-07 - val_ps_loss: 5.8132e-05\n",
            "Epoch 71/100\n",
            "200/200 [==============================] - 77s 385ms/step - loss: 6.5479e-05 - lb_loss: 2.3252e-06 - ps_loss: 6.6117e-05 - val_loss: 5.1935e-05 - val_lb_loss: 2.0062e-07 - val_ps_loss: 5.2458e-05\n",
            "Epoch 72/100\n",
            "200/200 [==============================] - 76s 382ms/step - loss: 6.1036e-05 - lb_loss: 1.4208e-06 - ps_loss: 6.1638e-05 - val_loss: 5.7881e-05 - val_lb_loss: 3.7469e-07 - val_ps_loss: 5.8462e-05\n",
            "Epoch 73/100\n",
            "200/200 [==============================] - 79s 398ms/step - loss: 6.1312e-05 - lb_loss: 1.6711e-06 - ps_loss: 6.1915e-05 - val_loss: 4.7670e-05 - val_lb_loss: 1.2820e-06 - val_ps_loss: 4.8138e-05\n",
            "Epoch 74/100\n",
            "200/200 [==============================] - 79s 394ms/step - loss: 5.7351e-05 - lb_loss: 3.3329e-06 - ps_loss: 5.7897e-05 - val_loss: 5.5099e-05 - val_lb_loss: 1.8735e-07 - val_ps_loss: 5.5654e-05\n",
            "Epoch 75/100\n",
            "200/200 [==============================] - 79s 398ms/step - loss: 5.6187e-05 - lb_loss: 1.6055e-06 - ps_loss: 5.6738e-05 - val_loss: 4.5198e-05 - val_lb_loss: 1.2859e-05 - val_ps_loss: 4.5524e-05\n",
            "Epoch 76/100\n",
            "200/200 [==============================] - 80s 399ms/step - loss: 5.4584e-05 - lb_loss: 1.0480e-06 - ps_loss: 5.5125e-05 - val_loss: 4.9711e-05 - val_lb_loss: 1.1101e-05 - val_ps_loss: 5.0101e-05\n",
            "Epoch 77/100\n",
            "200/200 [==============================] - 78s 392ms/step - loss: 5.4156e-05 - lb_loss: 1.7001e-06 - ps_loss: 5.4686e-05 - val_loss: 4.8914e-05 - val_lb_loss: 1.0932e-05 - val_ps_loss: 4.9297e-05\n",
            "Epoch 78/100\n",
            "200/200 [==============================] - 78s 392ms/step - loss: 5.1330e-05 - lb_loss: 7.0953e-07 - ps_loss: 5.1842e-05 - val_loss: 4.9962e-05 - val_lb_loss: 3.4318e-06 - val_ps_loss: 5.0432e-05\n",
            "Epoch 79/100\n",
            "200/200 [==============================] - 78s 392ms/step - loss: 5.1349e-05 - lb_loss: 9.6232e-07 - ps_loss: 5.1858e-05 - val_loss: 4.4409e-05 - val_lb_loss: 9.0820e-07 - val_ps_loss: 4.4848e-05\n",
            "Epoch 80/100\n",
            "200/200 [==============================] - 80s 399ms/step - loss: 5.0130e-05 - lb_loss: 1.7356e-06 - ps_loss: 5.0619e-05 - val_loss: 3.7959e-05 - val_lb_loss: 4.5190e-07 - val_ps_loss: 3.8338e-05\n",
            "Epoch 81/100\n",
            "200/200 [==============================] - 79s 397ms/step - loss: 5.4666e-05 - lb_loss: 1.1599e-05 - ps_loss: 5.5101e-05 - val_loss: 9.3494e-05 - val_lb_loss: 1.6198e-06 - val_ps_loss: 9.4422e-05\n",
            "Epoch 82/100\n",
            "200/200 [==============================] - 80s 399ms/step - loss: 5.0012e-05 - lb_loss: 2.4114e-06 - ps_loss: 5.0493e-05 - val_loss: 5.8280e-05 - val_lb_loss: 5.5320e-07 - val_ps_loss: 5.8863e-05\n",
            "Epoch 83/100\n",
            "200/200 [==============================] - 81s 408ms/step - loss: 4.0497e-04 - lb_loss: 0.0192 - ps_loss: 2.1479e-04 - val_loss: 0.0234 - val_lb_loss: 2.1073 - val_ps_loss: 0.0023\n",
            "Epoch 84/100\n",
            "200/200 [==============================] - 81s 404ms/step - loss: 2.3892e-04 - lb_loss: 0.0011 - ps_loss: 2.3002e-04 - val_loss: 9.7751e-04 - val_lb_loss: 0.0265 - val_ps_loss: 7.1970e-04\n",
            "Epoch 85/100\n",
            "200/200 [==============================] - 79s 398ms/step - loss: 1.4748e-04 - lb_loss: 1.9605e-04 - ps_loss: 1.4699e-04 - val_loss: 2.6425e-04 - val_lb_loss: 4.4052e-07 - val_ps_loss: 2.6691e-04\n",
            "Epoch 86/100\n",
            "200/200 [==============================] - 78s 392ms/step - loss: 1.1412e-04 - lb_loss: 1.0513e-05 - ps_loss: 1.1516e-04 - val_loss: 2.0085e-04 - val_lb_loss: 8.0581e-07 - val_ps_loss: 2.0287e-04\n",
            "Epoch 87/100\n",
            "200/200 [==============================] - 79s 397ms/step - loss: 9.2400e-05 - lb_loss: 1.2900e-05 - ps_loss: 9.3203e-05 - val_loss: 1.2622e-04 - val_lb_loss: 2.1622e-06 - val_ps_loss: 1.2747e-04\n",
            "Epoch 88/100\n",
            "200/200 [==============================] - 80s 400ms/step - loss: 8.8417e-05 - lb_loss: 5.0338e-05 - ps_loss: 8.8802e-05 - val_loss: 9.1553e-05 - val_lb_loss: 8.0466e-08 - val_ps_loss: 9.2477e-05\n",
            "Epoch 89/100\n",
            "200/200 [==============================] - 79s 397ms/step - loss: 7.9162e-05 - lb_loss: 5.2577e-05 - ps_loss: 7.9431e-05 - val_loss: 6.9378e-05 - val_lb_loss: 1.4751e-07 - val_ps_loss: 7.0077e-05\n",
            "Epoch 90/100\n",
            "200/200 [==============================] - 78s 393ms/step - loss: 1.2679e-04 - lb_loss: 0.0027 - ps_loss: 1.0109e-04 - val_loss: 4.3035e-04 - val_lb_loss: 0.0195 - val_ps_loss: 2.3729e-04\n",
            "Epoch 91/100\n",
            "200/200 [==============================] - 80s 400ms/step - loss: 1.0360e-04 - lb_loss: 6.1909e-05 - ps_loss: 1.0402e-04 - val_loss: 1.3829e-04 - val_lb_loss: 0.0013 - val_ps_loss: 1.2658e-04\n",
            "Epoch 92/100\n",
            "200/200 [==============================] - 80s 402ms/step - loss: 7.8526e-05 - lb_loss: 1.9023e-05 - ps_loss: 7.9127e-05 - val_loss: 8.8243e-05 - val_lb_loss: 2.6010e-06 - val_ps_loss: 8.9108e-05\n",
            "Epoch 93/100\n",
            "200/200 [==============================] - 78s 389ms/step - loss: 6.8022e-05 - lb_loss: 5.6601e-06 - ps_loss: 6.8652e-05 - val_loss: 6.2632e-05 - val_lb_loss: 3.0189e-06 - val_ps_loss: 6.3235e-05\n",
            "Epoch 94/100\n",
            "200/200 [==============================] - 79s 395ms/step - loss: 6.3382e-05 - lb_loss: 4.8121e-06 - ps_loss: 6.3973e-05 - val_loss: 5.1280e-05 - val_lb_loss: 3.7388e-08 - val_ps_loss: 5.1798e-05\n",
            "Epoch 95/100\n",
            "200/200 [==============================] - 79s 395ms/step - loss: 6.7628e-05 - lb_loss: 2.2380e-06 - ps_loss: 6.8289e-05 - val_loss: 4.9020e-05 - val_lb_loss: 3.9445e-07 - val_ps_loss: 4.9511e-05\n",
            "Epoch 96/100\n",
            "200/200 [==============================] - 81s 404ms/step - loss: 6.1248e-05 - lb_loss: 8.0866e-06 - ps_loss: 6.1785e-05 - val_loss: 5.1314e-05 - val_lb_loss: 5.8927e-08 - val_ps_loss: 5.1832e-05\n",
            "Epoch 97/100\n",
            "200/200 [==============================] - 79s 397ms/step - loss: 5.7001e-05 - lb_loss: 2.0752e-05 - ps_loss: 5.7367e-05 - val_loss: 5.2908e-05 - val_lb_loss: 6.1394e-07 - val_ps_loss: 5.3437e-05\n",
            "Epoch 98/100\n",
            "200/200 [==============================] - 80s 399ms/step - loss: 5.3126e-05 - lb_loss: 1.0786e-06 - ps_loss: 5.3652e-05 - val_loss: 4.2690e-05 - val_lb_loss: 4.9982e-07 - val_ps_loss: 4.3117e-05\n",
            "Epoch 99/100\n",
            "200/200 [==============================] - 80s 401ms/step - loss: 5.2252e-05 - lb_loss: 3.4114e-06 - ps_loss: 5.2745e-05 - val_loss: 5.9772e-05 - val_lb_loss: 1.5450e-06 - val_ps_loss: 6.0361e-05\n",
            "Epoch 100/100\n",
            "200/200 [==============================] - 80s 402ms/step - loss: 5.4202e-05 - lb_loss: 5.4226e-05 - ps_loss: 5.4201e-05 - val_loss: 5.2912e-05 - val_lb_loss: 2.1633e-07 - val_ps_loss: 5.3444e-05\n"
          ]
        },
        {
          "output_type": "execute_result",
          "data": {
            "text/plain": [
              "<tensorflow.python.keras.callbacks.History at 0x7f70383141c0>"
            ]
          },
          "metadata": {},
          "execution_count": 81
        }
      ],
      "source": [
        "model.fit(dt, epochs=100, steps_per_epoch=200, validation_data=dv)"
      ]
    },
    {
      "cell_type": "code",
      "metadata": {
        "colab": {
          "base_uri": "https://localhost:8080/",
          "height": 285
        },
        "id": "BP6010h8sa1U",
        "outputId": "a5cc52df-21e3-419d-9043-961f96bdf8a3"
      },
      "source": [
        "for image, y in dt:\n",
        "    image = image[0]\n",
        "    y_label = y[0][0]\n",
        "    y_points = y[1][0]\n",
        "    label, pred_points = model(image[None, ...])\n",
        "    # print(y_points)\n",
        "    print(y_points, pred_points)\n",
        "    print(keras.losses.mse(y_points, pred_points))\n",
        "    # points = decode_points(pred_points, tf.shape(image))\n",
        "    image = draw_points(image.numpy(), y_points.numpy(), False)\n",
        "\n",
        "    # points = decode_points(y_points, tf.shape(image))\n",
        "    image = draw_points(image, pred_points[0].numpy(), False)\n",
        "    \n",
        "    plt.imshow(image)\n",
        "    plt.axis('off')\n",
        "    plt.plot()\n",
        "    \n",
        "    break"
      ],
      "execution_count": 88,
      "outputs": [
        {
          "output_type": "stream",
          "name": "stderr",
          "text": [
            "Clipping input data to the valid range for imshow with RGB data ([0..1] for floats or [0..255] for integers).\n",
            "tf.Tensor(\n",
            "[0.14181992 0.28953236 0.9400703  0.3145721  0.8911564  0.7876555\n",
            " 0.12705007 0.75435543], shape=(8,), dtype=float32) tf.Tensor(\n",
            "[[0.15392064 0.28976572 0.942418   0.3221635  0.8932823  0.79667836\n",
            "  0.13491431 0.7449219 ]], shape=(1, 8), dtype=float32)\n",
            "tf.Tensor([5.5799013e-05], shape=(1,), dtype=float32)\n"
          ]
        },
        {
          "output_type": "display_data",
          "data": {
            "text/plain": "<Figure size 432x288 with 1 Axes>",
            "image/svg+xml": "<?xml version=\"1.0\" encoding=\"utf-8\" standalone=\"no\"?>\n<!DOCTYPE svg PUBLIC \"-//W3C//DTD SVG 1.1//EN\"\n  \"http://www.w3.org/Graphics/SVG/1.1/DTD/svg11.dtd\">\n<!-- Created with matplotlib (https://matplotlib.org/) -->\n<svg height=\"231.84pt\" version=\"1.1\" viewBox=\"0 0 231.84 231.84\" width=\"231.84pt\" xmlns=\"http://www.w3.org/2000/svg\" xmlns:xlink=\"http://www.w3.org/1999/xlink\">\n <metadata>\n  <rdf:RDF xmlns:cc=\"http://creativecommons.org/ns#\" xmlns:dc=\"http://purl.org/dc/elements/1.1/\" xmlns:rdf=\"http://www.w3.org/1999/02/22-rdf-syntax-ns#\">\n   <cc:Work>\n    <dc:type rdf:resource=\"http://purl.org/dc/dcmitype/StillImage\"/>\n    <dc:date>2021-06-21T23:30:31.172613</dc:date>\n    <dc:format>image/svg+xml</dc:format>\n    <dc:creator>\n     <cc:Agent>\n      <dc:title>Matplotlib v3.3.2, https://matplotlib.org/</dc:title>\n     </cc:Agent>\n    </dc:creator>\n   </cc:Work>\n  </rdf:RDF>\n </metadata>\n <defs>\n  <style type=\"text/css\">*{stroke-linecap:butt;stroke-linejoin:round;}</style>\n </defs>\n <g id=\"figure_1\">\n  <g id=\"patch_1\">\n   <path d=\"M 0 231.84 \nL 231.84 231.84 \nL 231.84 0 \nL 0 0 \nz\n\" style=\"fill:none;\"/>\n  </g>\n  <g id=\"axes_1\">\n   <g clip-path=\"url(#p0f1e93242c)\">\n    <image height=\"218\" id=\"imaged5e1b15646\" transform=\"scale(1 -1)translate(0 -218)\" width=\"218\" x=\"7.2\" xlink:href=\"data:image/png;base64,\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\" y=\"-6.64\"/>\n   </g>\n  </g>\n </g>\n <defs>\n  <clipPath id=\"p0f1e93242c\">\n   <rect height=\"217.44\" width=\"217.44\" x=\"7.2\" y=\"7.2\"/>\n  </clipPath>\n </defs>\n</svg>\n",
            "image/png": "[encoded data removed]"
          },
          "metadata": {
            "needs_background": "light"
          }
        }
      ]
    },
    {
      "cell_type": "code",
      "metadata": {
        "id": "vgGivSCuzfVd"
      },
      "source": [
        "model = keras.models.load_model('asdf')"
      ],
      "execution_count": 236,
      "outputs": []
    },
    {
      "cell_type": "code",
      "execution_count": null,
      "metadata": {},
      "outputs": [],
      "source": []
    }
  ]
}