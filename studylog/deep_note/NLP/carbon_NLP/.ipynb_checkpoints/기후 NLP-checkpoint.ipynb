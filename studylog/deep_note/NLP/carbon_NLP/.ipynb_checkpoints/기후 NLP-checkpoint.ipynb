{
 "cells": [
  {
   "cell_type": "code",
   "execution_count": 1,
   "metadata": {},
   "outputs": [
    {
     "name": "stdout",
     "output_type": "stream",
     "text": [
      "Collecting konlpy\n",
      "  Using cached konlpy-0.5.2-py2.py3-none-any.whl (19.4 MB)\n",
      "Requirement already satisfied: lxml>=4.1.0 in c:\\anaconda3\\lib\\site-packages (from konlpy) (4.6.1)\n",
      "Collecting beautifulsoup4==4.6.0\n",
      "  Downloading beautifulsoup4-4.6.0-py3-none-any.whl (86 kB)\n",
      "Collecting JPype1>=0.7.0\n",
      "  Downloading JPype1-1.3.0-cp38-cp38-win_amd64.whl (362 kB)\n",
      "Requirement already satisfied: numpy>=1.6 in c:\\anaconda3\\lib\\site-packages (from konlpy) (1.19.2)\n",
      "Collecting tweepy>=3.7.0\n",
      "  Downloading tweepy-3.10.0-py2.py3-none-any.whl (30 kB)\n",
      "Requirement already satisfied: colorama in c:\\anaconda3\\lib\\site-packages (from konlpy) (0.4.4)\n",
      "Requirement already satisfied: requests[socks]>=2.11.1 in c:\\anaconda3\\lib\\site-packages (from tweepy>=3.7.0->konlpy) (2.24.0)\n",
      "Collecting requests-oauthlib>=0.7.0\n",
      "  Using cached requests_oauthlib-1.3.0-py2.py3-none-any.whl (23 kB)\n",
      "Requirement already satisfied: six>=1.10.0 in c:\\anaconda3\\lib\\site-packages (from tweepy>=3.7.0->konlpy) (1.15.0)\n",
      "Requirement already satisfied: chardet<4,>=3.0.2 in c:\\anaconda3\\lib\\site-packages (from requests[socks]>=2.11.1->tweepy>=3.7.0->konlpy) (3.0.4)\n",
      "Requirement already satisfied: idna<3,>=2.5 in c:\\anaconda3\\lib\\site-packages (from requests[socks]>=2.11.1->tweepy>=3.7.0->konlpy) (2.10)\n",
      "Requirement already satisfied: urllib3!=1.25.0,!=1.25.1,<1.26,>=1.21.1 in c:\\anaconda3\\lib\\site-packages (from requests[socks]>=2.11.1->tweepy>=3.7.0->konlpy) (1.25.11)\n",
      "Requirement already satisfied: certifi>=2017.4.17 in c:\\anaconda3\\lib\\site-packages (from requests[socks]>=2.11.1->tweepy>=3.7.0->konlpy) (2020.6.20)\n",
      "Requirement already satisfied: PySocks!=1.5.7,>=1.5.6; extra == \"socks\" in c:\\anaconda3\\lib\\site-packages (from requests[socks]>=2.11.1->tweepy>=3.7.0->konlpy) (1.7.1)\n",
      "Collecting oauthlib>=3.0.0\n",
      "  Downloading oauthlib-3.1.1-py2.py3-none-any.whl (146 kB)\n",
      "Installing collected packages: beautifulsoup4, JPype1, oauthlib, requests-oauthlib, tweepy, konlpy\n",
      "  Attempting uninstall: beautifulsoup4\n",
      "    Found existing installation: beautifulsoup4 4.9.3\n",
      "    Uninstalling beautifulsoup4-4.9.3:\n",
      "      Successfully uninstalled beautifulsoup4-4.9.3\n",
      "Successfully installed JPype1-1.3.0 beautifulsoup4-4.6.0 konlpy-0.5.2 oauthlib-3.1.1 requests-oauthlib-1.3.0 tweepy-3.10.0\n"
     ]
    }
   ],
   "source": [
    "!pip install konlpy"
   ]
  },
  {
   "cell_type": "code",
   "execution_count": 2,
   "metadata": {},
   "outputs": [],
   "source": [
    "import pandas as pd\n",
    "import numpy as np\n",
    "import matplotlib.pyplot as plt\n",
    "import re\n",
    "import json\n",
    "import os\n",
    "import tqdm\n",
    "\n",
    "from konlpy.tag import Okt"
   ]
  },
  {
   "cell_type": "code",
   "execution_count": 3,
   "metadata": {},
   "outputs": [],
   "source": [
    "train=pd.read_csv('./data/train.csv')\n",
    "test=pd.read_csv('./data/test.csv')\n",
    "sample_submission=pd.read_csv('./data/sample_submission.csv')"
   ]
  },
  {
   "cell_type": "code",
   "execution_count": 6,
   "metadata": {},
   "outputs": [
    {
     "data": {
      "text/plain": [
       "(   index  제출년도               사업명   사업_부처명 계속과제여부                 내역사업명  \\\n",
       " 0      0  2016          농업기초기반연구    농촌진흥청     신규              농산물안전성연구   \n",
       " 1      1  2019  이공학학술연구기반구축(R&D)      교육부     신규  지역대학우수과학자지원사업(1년~5년)   \n",
       " 2      2  2016        중소기업기술혁신개발    중소기업청     신규              혁신기업기술개발   \n",
       " 3      3  2018     창업성장기술개발(R&D)  중소벤처기업부     신규             창업사업화연계과제   \n",
       " 4      4  2016       이공학개인기초연구지원      교육부     계속                기본연구지원   \n",
       " \n",
       "                                                  과제명  \\\n",
       " 0                       유전정보를 활용한 새로운 해충 분류군 동정기술 개발   \n",
       " 1  대장암의 TRAIL 내성 표적 인자 발굴 및 TRAIL 반응 예측 유전자 지도 구축...   \n",
       " 2  비목질계 셀룰로오스 식물자원을 활용한 기능성 부직포 및 고부가가치 뷰티케어 faci...   \n",
       " 3                            소화기 암 진단용 분자영상 형광프로브 개발   \n",
       " 4                        위암환자의 항암제반응예측을 위한 BRCA 발현검사   \n",
       " \n",
       "                                             요약문_연구목표  \\\n",
       " 0                     ○ 새로운 해충분류군의 동정기술 개발 및 유입확산 추적   \n",
       " 1  최종목표:  TRAIL 감수성 표적 유전자를 발굴하고 내성제어 기전을 연구. 발굴된...   \n",
       " 2  * 식물계자원 정련 및 최적 신서란 파이버 기초연구 개발\\n\\n\\n* 소비자 및 바...   \n",
       " 3  #  암특이적 바이오마커 발굴 및 바이오마커에 대한 프로브 개발\\n\\n\\n1) 소화...   \n",
       " 4  수술이 불가능한 위암환자는 생존기간은 10개월 안팎에 지나지 않고, 항암화학요법에 ...   \n",
       " \n",
       "                                             요약문_연구내용  \\\n",
       " 0  (가) 외래 및 돌발해충의 발생조사 및 종 동정\\n\\n\\n    ○ 대상해충 : 최...   \n",
       " 1  1차년도\\n1) Microarray를 통한 선천적 TRAIL 내성 표적 후보 유전자...   \n",
       " 2  * 식물계자원 정련 및 최적 신서란 파이버 기초연구 개발\\n\\n\\n- Tencel/...   \n",
       " 3  # 소화기 암 진단용 분자영상 형광프로브 개발\\n\\n\\n- 국소 도포형 소화기 암 ...   \n",
       " 4  -In situ hybridization 검사의 정확성을 확인하기 위해 위암세포주 ...   \n",
       " \n",
       "                                             요약문_기대효과  \\\n",
       " 0  ○ 새로운 돌발 및 외래해충의 신속, 정확한 동정법 향상\\n\\n\\n○ 돌발 및 외래...   \n",
       " 1  1) TRAIL 내성 특이적 표적분자를 발굴하고, 이를 이용한 TRAIL 효과 증진...   \n",
       " 2  * 국내 독자적인 비목질계 셀룰로오스 자원의 파이버 및 부직포 제조 등의 기술 확보...   \n",
       " 3  # 암 진단기술의 차별성: 소화기 암 특이 프로브 개발\\n\\n\\n- 최근 체외진단시...   \n",
       " 4  -본 연구는 파라핀보관조직에서 in situ hybridization로 mRNA 및...   \n",
       " \n",
       "                                           요약문_한글키워드  \\\n",
       " 0                  뉴클레오티드 염기서열, 분자마커, 종 동정, 침샘, 전사체   \n",
       " 1                             대장암,항암제 내성,세포사멸,유전자발굴   \n",
       " 2      기능성 샐룰로오스 파이버,천연섬유,기능성 부직포,뷰티&amp;케어 제품,미용 솜   \n",
       " 3                           분자 진단,형광 조영제,프로브,항체,대장암   \n",
       " 4  BRCA,제자리부합법,조직미세배열,마이크로RNA,위암,항암제반응,젊은 연령/가족성 위암   \n",
       " \n",
       "                                            요약문_영문키워드  label  \n",
       " 0  nucleotide sequence, molecular marker, species...     24  \n",
       " 1  TRAIL,Colorectal cancer,TRAIL resistance,Apopt...      0  \n",
       " 2  functional cellulose fiber,natural fiber,funct...      0  \n",
       " 3  Molecular diagnosis,Fluorescence,probe,antibod...      0  \n",
       " 4  BRCA,Insituhybridization,tissuemicroarray,micr...      0  ,\n",
       "     index  제출년도                 사업명     사업_부처명 계속과제여부                  내역사업명  \\\n",
       " 0  174304  2016           경제협력권산업육성    산업통상자원부     신규                자동차융합부품   \n",
       " 1  174305  2018  개인기초연구(과기정통부)(R&D)  과학기술정보통신부     계속  신진연구(총연구비5천이상~1.5억이하)   \n",
       " 2  174306  2017         개인기초연구(미래부)  과학기술정보통신부     계속                   자유공모   \n",
       " 3  174307  2018      산학연협력기술개발(R&D)    중소벤처기업부     신규            전략 협력(지역유망)   \n",
       " 4  174308  2019    이공학학술연구기반구축(R&D)        교육부     계속   지역대학우수과학자지원사업(1년~5년)   \n",
       " \n",
       "                                                  과제명  \\\n",
       " 0  R-FSSW 기술 적용 경량 차체 부품 개발 및 품질 평가를 위한 64채널 C-SC...   \n",
       " 1                           다입자계를 묘사하는 편미분방정식에 대한 연구   \n",
       " 2              저출생체중아 가족을 위한 지역사회중심의 퇴원후 추후관리프로그램 개발   \n",
       " 3                         폴리싱용 5축 CNC 정밀 마이크로 시스템 개발   \n",
       " 4           다결정재료의 미세조직구조를 고려한 확률론적 응력부식균열 생성예측모델 개발   \n",
       " \n",
       "                                             요약문_연구목표  \\\n",
       " 0  ○ 차체 점용접부의 품질 검사를 위한 64채널 무선 기반 C-Scan 탐촉자 개발\\...   \n",
       " 1  자연계에는 입자의 개수가 아주 큰 다양한 다입자계가 존재한다.  이런 다입자계의 효...   \n",
       " 2  저출생체중아는 정상 체중 출생아에 비하여 운동, 정신, 행동 및 정서발달장애가 빈번...   \n",
       " 3  최근 초정밀 공작기계 시장의 트렌드를 살펴보면 다음과 같다.\\n\\n\\n(1) 자동차...   \n",
       " 4  본 연구의 최종목표는 다결정 금속재료의 미세조직구조를 고려한 확률론적 응력부식균열(...   \n",
       " \n",
       "                                             요약문_연구내용  \\\n",
       " 0  ○ 1차년도\\n\\n    . 개발 탐촉 시스템의 성능 평가 위한 표준 시편 제작 시...   \n",
       " 1  연구과제1. 무한입자계의 동역학 / 작용소(operator) 방정식에 대한 연구\\n...   \n",
       " 2  본 연구는 퇴원 후 저출생체중아의 퇴원 후 추후관리 프로그램 중 가정방문 모델과 가...   \n",
       " 3  (1) 0.5~1㎛의 가공정밀도(면조도) 구현\\n\\n\\n - 국내에서는 연삭기를 제...   \n",
       " 4  총 연구기간은 3년으로, 연차별 연구내용 및 범위는 다음과 같다.\\n\\n  ∙ 1차...   \n",
       " \n",
       "                                             요약문_기대효과  \\\n",
       " 0  ○ 기술적 파급효과\\n\\n  - 본 연구에서 개발된 R-FSSW 접합 기술은 기존 ...   \n",
       " 1  본 연구는 물리학에서 중요한 대상인 다입자계를 묘사하는 모델방정식의 정당성을 보장하...   \n",
       " 2  본 연구는 저출생체중아 가족 대상의 지역사회기반의 추후관리 사업에 대한 구체적인 모...   \n",
       " 3  (1) 가공 공정 및 소요시간 단축\\n\\n\\n   초정밀금형 가공시 정삭 후 추가적...   \n",
       " 4  본 연구의 중요성 및 활용가능성은 다음과 같다.\\n\\n  ∙ 기존의 재료전체 ave...   \n",
       " \n",
       "                                          요약문_한글키워드  \\\n",
       " 0          마찰교반점용접, 비파괴 검사, 초음파 탐상, 씨 스캔, 용접 품질 평가   \n",
       " 1  다체계 방정식,동역학의 안정성,양자역학,고전역학,평균장 극한,고전극한,비상대론적 극한   \n",
       " 2                       저출생체중아,추후관리,조기개입,자조모임,가정방문   \n",
       " 3                     초정밀가공,폴리싱 가공,마이크로,경면가공,난삭재가공   \n",
       " 4                               결정구조,응력부식균열,확률론적모델   \n",
       " \n",
       "                                            요약문_영문키워드  \n",
       " 0  Friction Stir Spot Welding, Non-destructive ev...  \n",
       " 1  many particle system,stability of dynamics,qua...  \n",
       " 2  lowbirthweightinfant,followup,earlyinterventio...  \n",
       " 3  superprecision,hiprecision,micro,mirror like f...  \n",
       " 4  Crystalline structure,Stress corrosion crackin...  ,\n",
       "     index  label\n",
       " 0  174304      0\n",
       " 1  174305      0\n",
       " 2  174306      0\n",
       " 3  174307      0\n",
       " 4  174308      0)"
      ]
     },
     "execution_count": 6,
     "metadata": {},
     "output_type": "execute_result"
    }
   ],
   "source": [
    "train.head(), test.head(), sample_submission.head()"
   ]
  },
  {
   "cell_type": "code",
   "execution_count": null,
   "metadata": {},
   "outputs": [],
   "source": []
  }
 ],
 "metadata": {
  "kernelspec": {
   "display_name": "Python 3",
   "language": "python",
   "name": "python3"
  },
  "language_info": {
   "codemirror_mode": {
    "name": "ipython",
    "version": 3
   },
   "file_extension": ".py",
   "mimetype": "text/x-python",
   "name": "python",
   "nbconvert_exporter": "python",
   "pygments_lexer": "ipython3",
   "version": "3.8.5"
  }
 },
 "nbformat": 4,
 "nbformat_minor": 4
}
