{
 "cells": [
  {
   "cell_type": "markdown",
   "metadata": {},
   "source": [
    "baseline.ipynb<br>\n",
    ".. ├ models<br>\n",
    ".. └ data<br>\n",
    ".... ├ train_imgs<br>\n",
    ".... ├ test_imgs<br>\n",
    ".... ├ train.csv<br>\n",
    ".... ├ test.csv<br>\n",
    ".... └ sample_submission.csv"
   ]
  },
  {
   "cell_type": "markdown",
   "metadata": {},
   "source": [
    "# 사용 패키지"
   ]
  },
  {
   "cell_type": "code",
   "execution_count": 1,
   "metadata": {},
   "outputs": [],
   "source": [
    "import numpy as np\n",
    "import pandas as pd\n",
    "import matplotlib.pyplot as plt\n",
    "import cv2\n",
    "from tqdm import tqdm\n",
    "\n",
    "import torch\n",
    "from torch import nn\n",
    "from torchvision import models\n",
    "from torch.utils.data import Dataset, DataLoader"
   ]
  },
  {
   "cell_type": "markdown",
   "metadata": {},
   "source": [
    "# 데이터 로드"
   ]
  },
  {
   "cell_type": "code",
   "execution_count": 2,
   "metadata": {},
   "outputs": [],
   "source": [
    "train_total = pd.read_csv('data/train.csv')\n",
    "test = pd.read_csv('data/test.csv')"
   ]
  },
  {
   "cell_type": "code",
   "execution_count": 3,
   "metadata": {},
   "outputs": [
    {
     "data": {
      "text/html": [
       "<div>\n",
       "<style scoped>\n",
       "    .dataframe tbody tr th:only-of-type {\n",
       "        vertical-align: middle;\n",
       "    }\n",
       "\n",
       "    .dataframe tbody tr th {\n",
       "        vertical-align: top;\n",
       "    }\n",
       "\n",
       "    .dataframe thead th {\n",
       "        text-align: right;\n",
       "    }\n",
       "</style>\n",
       "<table border=\"1\" class=\"dataframe\">\n",
       "  <thead>\n",
       "    <tr style=\"text-align: right;\">\n",
       "      <th></th>\n",
       "      <th>uid</th>\n",
       "      <th>img_path</th>\n",
       "      <th>disease</th>\n",
       "      <th>disease_code</th>\n",
       "    </tr>\n",
       "  </thead>\n",
       "  <tbody>\n",
       "    <tr>\n",
       "      <th>0</th>\n",
       "      <td>10000</td>\n",
       "      <td>train_imgs/10000.jpg</td>\n",
       "      <td>시설포도노균병</td>\n",
       "      <td>1</td>\n",
       "    </tr>\n",
       "    <tr>\n",
       "      <th>1</th>\n",
       "      <td>10001</td>\n",
       "      <td>train_imgs/10001.jpg</td>\n",
       "      <td>시설포도노균병</td>\n",
       "      <td>1</td>\n",
       "    </tr>\n",
       "    <tr>\n",
       "      <th>2</th>\n",
       "      <td>10002</td>\n",
       "      <td>train_imgs/10002.jpg</td>\n",
       "      <td>시설포도노균병반응</td>\n",
       "      <td>2</td>\n",
       "    </tr>\n",
       "    <tr>\n",
       "      <th>3</th>\n",
       "      <td>10003</td>\n",
       "      <td>train_imgs/10003.jpg</td>\n",
       "      <td>축과병</td>\n",
       "      <td>4</td>\n",
       "    </tr>\n",
       "    <tr>\n",
       "      <th>4</th>\n",
       "      <td>10004</td>\n",
       "      <td>train_imgs/10004.jpg</td>\n",
       "      <td>시설포도노균병</td>\n",
       "      <td>1</td>\n",
       "    </tr>\n",
       "  </tbody>\n",
       "</table>\n",
       "</div>"
      ],
      "text/plain": [
       "     uid              img_path    disease  disease_code\n",
       "0  10000  train_imgs/10000.jpg    시설포도노균병             1\n",
       "1  10001  train_imgs/10001.jpg    시설포도노균병             1\n",
       "2  10002  train_imgs/10002.jpg  시설포도노균병반응             2\n",
       "3  10003  train_imgs/10003.jpg        축과병             4\n",
       "4  10004  train_imgs/10004.jpg    시설포도노균병             1"
      ]
     },
     "execution_count": 3,
     "metadata": {},
     "output_type": "execute_result"
    }
   ],
   "source": [
    "train_total.head()"
   ]
  },
  {
   "cell_type": "code",
   "execution_count": 4,
   "metadata": {},
   "outputs": [
    {
     "data": {
      "text/html": [
       "<div>\n",
       "<style scoped>\n",
       "    .dataframe tbody tr th:only-of-type {\n",
       "        vertical-align: middle;\n",
       "    }\n",
       "\n",
       "    .dataframe tbody tr th {\n",
       "        vertical-align: top;\n",
       "    }\n",
       "\n",
       "    .dataframe thead th {\n",
       "        text-align: right;\n",
       "    }\n",
       "</style>\n",
       "<table border=\"1\" class=\"dataframe\">\n",
       "  <thead>\n",
       "    <tr style=\"text-align: right;\">\n",
       "      <th></th>\n",
       "      <th>uid</th>\n",
       "      <th>img_path</th>\n",
       "    </tr>\n",
       "  </thead>\n",
       "  <tbody>\n",
       "    <tr>\n",
       "      <th>0</th>\n",
       "      <td>20000</td>\n",
       "      <td>test_imgs/20000.jpg</td>\n",
       "    </tr>\n",
       "    <tr>\n",
       "      <th>1</th>\n",
       "      <td>20001</td>\n",
       "      <td>test_imgs/20001.jpg</td>\n",
       "    </tr>\n",
       "    <tr>\n",
       "      <th>2</th>\n",
       "      <td>20002</td>\n",
       "      <td>test_imgs/20002.jpg</td>\n",
       "    </tr>\n",
       "    <tr>\n",
       "      <th>3</th>\n",
       "      <td>20003</td>\n",
       "      <td>test_imgs/20003.jpg</td>\n",
       "    </tr>\n",
       "    <tr>\n",
       "      <th>4</th>\n",
       "      <td>20004</td>\n",
       "      <td>test_imgs/20004.jpg</td>\n",
       "    </tr>\n",
       "  </tbody>\n",
       "</table>\n",
       "</div>"
      ],
      "text/plain": [
       "     uid             img_path\n",
       "0  20000  test_imgs/20000.jpg\n",
       "1  20001  test_imgs/20001.jpg\n",
       "2  20002  test_imgs/20002.jpg\n",
       "3  20003  test_imgs/20003.jpg\n",
       "4  20004  test_imgs/20004.jpg"
      ]
     },
     "execution_count": 4,
     "metadata": {},
     "output_type": "execute_result"
    }
   ],
   "source": [
    "test.head()"
   ]
  },
  {
   "cell_type": "markdown",
   "metadata": {},
   "source": [
    "# 하이퍼파라미터 및 변수"
   ]
  },
  {
   "cell_type": "code",
   "execution_count": 5,
   "metadata": {},
   "outputs": [],
   "source": [
    "device = torch.device(\"cuda:0\")\n",
    "batch_size = 64\n",
    "class_n = len(train_total['disease_code'].unique())\n",
    "learning_rate = 1e-4\n",
    "epochs = 10\n",
    "save_path = 'models/model.pt'"
   ]
  },
  {
   "cell_type": "markdown",
   "metadata": {},
   "source": [
    "# 데이터셋 구성"
   ]
  },
  {
   "cell_type": "code",
   "execution_count": 6,
   "metadata": {},
   "outputs": [],
   "source": [
    "class CustomDataset(Dataset):\n",
    "    def __init__(self, files, labels=None, mode='train'):\n",
    "        self.mode = mode\n",
    "        self.files = files\n",
    "        if mode == 'train':\n",
    "            self.labels = labels\n",
    "            \n",
    "    def __len__(self):\n",
    "        return len(self.files)\n",
    "    \n",
    "    def __getitem__(self, i):\n",
    "        if self.mode == 'train':\n",
    "            img = cv2.imread('data/train_imgs/'+self.files[i])\n",
    "            img = cv2.resize(img, dsize=(256, 256), interpolation=cv2.INTER_AREA)\n",
    "            img = img.astype(np.float32)/255\n",
    "            img = np.transpose(img, (2,0,1))\n",
    "            return {\n",
    "                'img' : torch.tensor(img, dtype=torch.float32),\n",
    "                'label' : torch.tensor(self.labels[i], dtype=torch.long)\n",
    "            }\n",
    "        else:\n",
    "            img = cv2.imread('data/test_imgs/'+self.files[i])\n",
    "            img = cv2.resize(img, dsize=(256, 256), interpolation=cv2.INTER_AREA)\n",
    "            img = img.astype(np.float32)/255\n",
    "            img = np.transpose(img, (2,0,1))\n",
    "            return {\n",
    "                'img' : torch.tensor(img, dtype=torch.float32),\n",
    "            }"
   ]
  },
  {
   "cell_type": "code",
   "execution_count": 7,
   "metadata": {},
   "outputs": [],
   "source": [
    "train = train_total.iloc[:200]\n",
    "val = train_total.iloc[200:]"
   ]
  },
  {
   "cell_type": "code",
   "execution_count": 8,
   "metadata": {},
   "outputs": [],
   "source": [
    "train_dataset = CustomDataset(train['img_path'].str.split('/').str[-1].values, train['disease_code'].values)\n",
    "val_dataset = CustomDataset(val['img_path'].str.split('/').str[-1].values, val['disease_code'].values)\n",
    "\n",
    "train_dataloader = torch.utils.data.DataLoader(train_dataset, batch_size=batch_size, num_workers=16, shuffle=True)\n",
    "val_dataloader = torch.utils.data.DataLoader(val_dataset, batch_size=batch_size, num_workers=16, shuffle=False)\n",
    "\n",
    "test_dataset = CustomDataset(test['img_path'].str.split('/').str[-1], labels=None, mode='test')\n",
    "test_dataloader = torch.utils.data.DataLoader(test_dataset, batch_size=batch_size, num_workers=16, shuffle=False)"
   ]
  },
  {
   "cell_type": "markdown",
   "metadata": {},
   "source": [
    "# 모델"
   ]
  },
  {
   "cell_type": "code",
   "execution_count": 9,
   "metadata": {},
   "outputs": [],
   "source": [
    "class CNN_Model(nn.Module):\n",
    "    def __init__(self, class_n, rate=0.1):\n",
    "        super(CNN_Model, self).__init__()\n",
    "        self.model = models.resnet50(pretrained=True)\n",
    "        self.dropout = nn.Dropout(rate)\n",
    "        self.output_layer = nn.Linear(in_features=1000, out_features=class_n, bias=True)\n",
    "    \n",
    "    def forward(self, inputs):\n",
    "        output = self.output_layer(self.dropout(self.model(inputs)))\n",
    "        return output"
   ]
  },
  {
   "cell_type": "code",
   "execution_count": 10,
   "metadata": {},
   "outputs": [],
   "source": [
    "model = CNN_Model(class_n).to(device)"
   ]
  },
  {
   "cell_type": "code",
   "execution_count": 11,
   "metadata": {},
   "outputs": [],
   "source": [
    "optimizer = torch.optim.Adam(model.parameters(), lr=learning_rate)\n",
    "criterion = nn.CrossEntropyLoss()"
   ]
  },
  {
   "cell_type": "markdown",
   "metadata": {},
   "source": [
    "# 학습"
   ]
  },
  {
   "cell_type": "code",
   "execution_count": 12,
   "metadata": {},
   "outputs": [],
   "source": [
    "def train_step(batch_item, epoch, batch, training):\n",
    "    img = batch_item['img'].to(device)\n",
    "    label = batch_item['label'].to(device)\n",
    "    if training is True:\n",
    "        model.train()\n",
    "        optimizer.zero_grad()\n",
    "        with torch.cuda.amp.autocast():\n",
    "            output = model(img)\n",
    "            loss = criterion(output, label)\n",
    "        loss.backward()\n",
    "        optimizer.step()\n",
    "        \n",
    "        return loss\n",
    "    else:\n",
    "        model.eval()\n",
    "        with torch.no_grad():\n",
    "            output = model(img)\n",
    "            loss = criterion(output, label)\n",
    "            \n",
    "        return loss"
   ]
  },
  {
   "cell_type": "code",
   "execution_count": 13,
   "metadata": {},
   "outputs": [
    {
     "name": "stderr",
     "output_type": "stream",
     "text": [
      "0it [00:00, ?it/s]/home/dacon/anaconda3/envs/eunil/lib/python3.6/site-packages/torch/nn/functional.py:718: UserWarning: Named tensors and all their associated APIs are an experimental feature and subject to change. Please do not use them for anything important until they are released as stable. (Triggered internally at  /pytorch/c10/core/TensorImpl.h:1156.)\n",
      "  return torch.max_pool2d(input, kernel_size, stride, padding, dilation, ceil_mode)\n",
      "4it [00:04,  1.15s/it, Epoch=1, Loss=1.390392, Total Loss=1.613481]\n",
      "1it [00:03,  3.33s/it, Epoch=1, Val Loss=0.798769, Total Val Loss=0.798769]\n",
      "4it [00:04,  1.16s/it, Epoch=2, Loss=0.099387, Total Loss=0.132348]\n",
      "1it [00:03,  3.35s/it, Epoch=2, Val Loss=0.577442, Total Val Loss=0.577442]\n",
      "4it [00:04,  1.24s/it, Epoch=3, Loss=0.059203, Total Loss=0.069874]\n",
      "1it [00:03,  3.35s/it, Epoch=3, Val Loss=0.403138, Total Val Loss=0.403138]\n",
      "4it [00:04,  1.13s/it, Epoch=4, Loss=0.083828, Total Loss=0.033543]\n",
      "1it [00:03,  3.34s/it, Epoch=4, Val Loss=0.293744, Total Val Loss=0.293744]\n",
      "4it [00:05,  1.29s/it, Epoch=5, Loss=0.030062, Total Loss=0.015067]\n",
      "1it [00:03,  3.33s/it, Epoch=5, Val Loss=0.331583, Total Val Loss=0.331583]\n",
      "4it [00:04,  1.18s/it, Epoch=6, Loss=0.275615, Total Loss=0.074171]\n",
      "1it [00:03,  3.36s/it, Epoch=6, Val Loss=0.378691, Total Val Loss=0.378691]\n",
      "4it [00:05,  1.25s/it, Epoch=7, Loss=0.103534, Total Loss=0.029294]\n",
      "1it [00:03,  3.33s/it, Epoch=7, Val Loss=0.417353, Total Val Loss=0.417353]\n",
      "4it [00:04,  1.19s/it, Epoch=8, Loss=0.033884, Total Loss=0.011817]\n",
      "1it [00:03,  3.32s/it, Epoch=8, Val Loss=0.367654, Total Val Loss=0.367654]\n",
      "4it [00:04,  1.10s/it, Epoch=9, Loss=0.361801, Total Loss=0.094662]\n",
      "1it [00:03,  3.34s/it, Epoch=9, Val Loss=0.327428, Total Val Loss=0.327428]\n",
      "4it [00:04,  1.20s/it, Epoch=10, Loss=0.081115, Total Loss=0.024888]\n",
      "1it [00:03,  3.36s/it, Epoch=10, Val Loss=0.259504, Total Val Loss=0.259504]\n"
     ]
    }
   ],
   "source": [
    "loss_plot, val_loss_plot = [], []\n",
    "\n",
    "for epoch in range(epochs):\n",
    "    total_loss, total_val_loss = 0, 0\n",
    "    \n",
    "    tqdm_dataset = tqdm(enumerate(train_dataloader))\n",
    "    training = True\n",
    "    for batch, batch_item in tqdm_dataset:\n",
    "        batch_loss = train_step(batch_item, epoch, batch, training)\n",
    "        total_loss += batch_loss\n",
    "        \n",
    "        tqdm_dataset.set_postfix({\n",
    "            'Epoch': epoch + 1,\n",
    "            'Loss': '{:06f}'.format(batch_loss.item()),\n",
    "            'Total Loss' : '{:06f}'.format(total_loss/(batch+1))\n",
    "        })\n",
    "    loss_plot.append(total_loss/(batch+1))\n",
    "    \n",
    "    tqdm_dataset = tqdm(enumerate(val_dataloader))\n",
    "    training = False\n",
    "    for batch, batch_item in tqdm_dataset:\n",
    "        batch_loss = train_step(batch_item, epoch, batch, training)\n",
    "        total_val_loss += batch_loss\n",
    "        \n",
    "        tqdm_dataset.set_postfix({\n",
    "            'Epoch': epoch + 1,\n",
    "            'Val Loss': '{:06f}'.format(batch_loss.item()),\n",
    "            'Total Val Loss' : '{:06f}'.format(total_val_loss/(batch+1))\n",
    "        })\n",
    "    val_loss_plot.append(total_val_loss/(batch+1))\n",
    "    \n",
    "    if np.min(val_loss_plot) == val_loss_plot[-1]:\n",
    "        torch.save(model, save_path)"
   ]
  },
  {
   "cell_type": "markdown",
   "metadata": {},
   "source": [
    "# 학습 결과"
   ]
  },
  {
   "cell_type": "code",
   "execution_count": 14,
   "metadata": {},
   "outputs": [
    {
     "data": {
      "image/png": "[encoded data removed]",
      "text/plain": [
       "<Figure size 432x288 with 1 Axes>"
      ]
     },
     "metadata": {
      "needs_background": "light"
     },
     "output_type": "display_data"
    }
   ],
   "source": [
    "plt.plot(loss_plot, label='train_loss')\n",
    "plt.plot(val_loss_plot, label='val_loss')\n",
    "plt.xlabel('epoch')\n",
    "plt.ylabel('loss')\n",
    "plt.legend()\n",
    "plt.show()"
   ]
  },
  {
   "cell_type": "markdown",
   "metadata": {},
   "source": [
    "# 추론 및 제출"
   ]
  },
  {
   "cell_type": "code",
   "execution_count": 15,
   "metadata": {},
   "outputs": [],
   "source": [
    "def predict(dataset):\n",
    "    model.eval()\n",
    "    tqdm_dataset = tqdm(enumerate(dataset))\n",
    "    training = False\n",
    "    results = []\n",
    "    for batch, batch_item in tqdm_dataset:\n",
    "        img = batch_item['img'].to(device)\n",
    "        with torch.no_grad():\n",
    "            output = model(img)\n",
    "        output = torch.tensor(torch.argmax(output, axis=-1), dtype=torch.int32).cpu().numpy()\n",
    "        results.extend(output)\n",
    "    return results"
   ]
  },
  {
   "cell_type": "code",
   "execution_count": 16,
   "metadata": {},
   "outputs": [
    {
     "name": "stderr",
     "output_type": "stream",
     "text": [
      "0it [00:00, ?it/s]/home/dacon/.local/lib/python3.6/site-packages/ipykernel_launcher.py:10: UserWarning: To copy construct from a tensor, it is recommended to use sourceTensor.clone().detach() or sourceTensor.clone().detach().requires_grad_(True), rather than torch.tensor(sourceTensor).\n",
      "  # Remove the CWD from sys.path while we load stuff.\n",
      "75it [00:25,  2.94it/s]\n"
     ]
    }
   ],
   "source": [
    "preds = predict(test_dataloader)"
   ]
  },
  {
   "cell_type": "code",
   "execution_count": 17,
   "metadata": {},
   "outputs": [],
   "source": [
    "submission = pd.read_csv('data/sample_submission.csv')"
   ]
  },
  {
   "cell_type": "code",
   "execution_count": 18,
   "metadata": {},
   "outputs": [],
   "source": [
    "submission.iloc[:,1] = preds"
   ]
  },
  {
   "cell_type": "code",
   "execution_count": 19,
   "metadata": {},
   "outputs": [],
   "source": [
    "submission.to_csv('baseline.csv', index=False)"
   ]
  }
 ],
 "metadata": {
  "kernelspec": {
   "display_name": "eunil",
   "language": "python",
   "name": "eunil"
  },
  "language_info": {
   "codemirror_mode": {
    "name": "ipython",
    "version": 3
   },
   "file_extension": ".py",
   "mimetype": "text/x-python",
   "name": "python",
   "nbconvert_exporter": "python",
   "pygments_lexer": "ipython3",
   "version": "3.6.13"
  }
 },
 "nbformat": 4,
 "nbformat_minor": 4
}
